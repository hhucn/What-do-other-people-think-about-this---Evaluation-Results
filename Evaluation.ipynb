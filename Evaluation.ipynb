{
 "cells": [
  {
   "cell_type": "code",
   "id": "initial_id",
   "metadata": {
    "collapsed": true,
    "ExecuteTime": {
     "end_time": "2024-12-02T12:09:34.403314Z",
     "start_time": "2024-12-02T12:09:33.829898Z"
    }
   },
   "source": [
    "import numpy as np\n",
    "import pandas as pd\n",
    "import matplotlib.pyplot as plt\n",
    "from statistics import mean, stdev"
   ],
   "outputs": [],
   "execution_count": 1
  },
  {
   "metadata": {
    "ExecuteTime": {
     "end_time": "2024-12-02T12:09:34.879133Z",
     "start_time": "2024-12-02T12:09:34.858908Z"
    }
   },
   "cell_type": "code",
   "source": [
    "comment_answers = pd.read_csv('data/evaluation_data/comment_answer_data.csv')\n",
    "viewpoint_answers  = pd.read_csv('data/evaluation_data/point_of_view_answer_data.csv')\n",
    "question_data = pd.read_csv('data/evaluation_data/question_data.csv')\n",
    "comment_recommendation = pd.read_csv('data/evaluation_data/comment_data.csv')\n",
    "participants = pd.read_csv('data/evaluation_data/participant_data.csv')"
   ],
   "id": "cb74b32061d9abe1",
   "outputs": [],
   "execution_count": 2
  },
  {
   "metadata": {},
   "cell_type": "markdown",
   "source": "# Overview Question data",
   "id": "b7385bd0d67bcf27"
  },
  {
   "metadata": {
    "ExecuteTime": {
     "end_time": "2024-12-02T12:09:35.006093Z",
     "start_time": "2024-12-02T12:09:34.994012Z"
    }
   },
   "cell_type": "code",
   "source": "question_data",
   "id": "aa5e9edc76bec10d",
   "outputs": [
    {
     "data": {
      "text/plain": [
       "   Unnamed: 0  question_id                                       user_comment  \\\n",
       "0           0            1  This is a funny column.  But seriously folks, ...   \n",
       "1           1            2  Abortion is a safe medical procedure and has n...   \n",
       "2           2            3  You do not have to go this far across the to s...   \n",
       "3           3            4  Trump had never been considered a racist until...   \n",
       "4           4            5  The difference is that all the unborn are inno...   \n",
       "5           5            6  Man made climate change is a myth, which is pr...   \n",
       "\n",
       "                                       article_title  \\\n",
       "0                   And Now, the Dreaded Trump Curse   \n",
       "1  To Save Abortion Rights, We Have to Think Beyo...   \n",
       "2          Come to This Island, Before It Disappears   \n",
       "3  Nikki Haley Cancels Iowa Event: Video Shows Em...   \n",
       "4  Florida Abortion Ballot Initiative Reaches Sig...   \n",
       "5  Woke Lancet: Climate Change ‘the Biggest Globa...   \n",
       "\n",
       "                                            keywords news_agency  \n",
       "0  [United States Politics and Government, Trump ...     NyTimes  \n",
       "1  [Abortion, Birth Control and Family Planning, ...     NyTimes  \n",
       "2  [Greenhouse Gas Emissions, Global Warming, Agr...     NyTimes  \n",
       "3  [Donald Trump,globalism,Globalists,Iowa,Nikki ...   Breitbart  \n",
       "4  [Abortion,ACLU,Amendment,ballot initiatives,Ba...   Breitbart  \n",
       "5  [climate alarmism,Climate Change,Global Warmin...   Breitbart  "
      ],
      "text/html": [
       "<div>\n",
       "<style scoped>\n",
       "    .dataframe tbody tr th:only-of-type {\n",
       "        vertical-align: middle;\n",
       "    }\n",
       "\n",
       "    .dataframe tbody tr th {\n",
       "        vertical-align: top;\n",
       "    }\n",
       "\n",
       "    .dataframe thead th {\n",
       "        text-align: right;\n",
       "    }\n",
       "</style>\n",
       "<table border=\"1\" class=\"dataframe\">\n",
       "  <thead>\n",
       "    <tr style=\"text-align: right;\">\n",
       "      <th></th>\n",
       "      <th>Unnamed: 0</th>\n",
       "      <th>question_id</th>\n",
       "      <th>user_comment</th>\n",
       "      <th>article_title</th>\n",
       "      <th>keywords</th>\n",
       "      <th>news_agency</th>\n",
       "    </tr>\n",
       "  </thead>\n",
       "  <tbody>\n",
       "    <tr>\n",
       "      <th>0</th>\n",
       "      <td>0</td>\n",
       "      <td>1</td>\n",
       "      <td>This is a funny column.  But seriously folks, ...</td>\n",
       "      <td>And Now, the Dreaded Trump Curse</td>\n",
       "      <td>[United States Politics and Government, Trump ...</td>\n",
       "      <td>NyTimes</td>\n",
       "    </tr>\n",
       "    <tr>\n",
       "      <th>1</th>\n",
       "      <td>1</td>\n",
       "      <td>2</td>\n",
       "      <td>Abortion is a safe medical procedure and has n...</td>\n",
       "      <td>To Save Abortion Rights, We Have to Think Beyo...</td>\n",
       "      <td>[Abortion, Birth Control and Family Planning, ...</td>\n",
       "      <td>NyTimes</td>\n",
       "    </tr>\n",
       "    <tr>\n",
       "      <th>2</th>\n",
       "      <td>2</td>\n",
       "      <td>3</td>\n",
       "      <td>You do not have to go this far across the to s...</td>\n",
       "      <td>Come to This Island, Before It Disappears</td>\n",
       "      <td>[Greenhouse Gas Emissions, Global Warming, Agr...</td>\n",
       "      <td>NyTimes</td>\n",
       "    </tr>\n",
       "    <tr>\n",
       "      <th>3</th>\n",
       "      <td>3</td>\n",
       "      <td>4</td>\n",
       "      <td>Trump had never been considered a racist until...</td>\n",
       "      <td>Nikki Haley Cancels Iowa Event: Video Shows Em...</td>\n",
       "      <td>[Donald Trump,globalism,Globalists,Iowa,Nikki ...</td>\n",
       "      <td>Breitbart</td>\n",
       "    </tr>\n",
       "    <tr>\n",
       "      <th>4</th>\n",
       "      <td>4</td>\n",
       "      <td>5</td>\n",
       "      <td>The difference is that all the unborn are inno...</td>\n",
       "      <td>Florida Abortion Ballot Initiative Reaches Sig...</td>\n",
       "      <td>[Abortion,ACLU,Amendment,ballot initiatives,Ba...</td>\n",
       "      <td>Breitbart</td>\n",
       "    </tr>\n",
       "    <tr>\n",
       "      <th>5</th>\n",
       "      <td>5</td>\n",
       "      <td>6</td>\n",
       "      <td>Man made climate change is a myth, which is pr...</td>\n",
       "      <td>Woke Lancet: Climate Change ‘the Biggest Globa...</td>\n",
       "      <td>[climate alarmism,Climate Change,Global Warmin...</td>\n",
       "      <td>Breitbart</td>\n",
       "    </tr>\n",
       "  </tbody>\n",
       "</table>\n",
       "</div>"
      ]
     },
     "execution_count": 3,
     "metadata": {},
     "output_type": "execute_result"
    }
   ],
   "execution_count": 3
  },
  {
   "metadata": {
    "ExecuteTime": {
     "end_time": "2024-12-02T12:09:35.133228Z",
     "start_time": "2024-12-02T12:09:35.126211Z"
    }
   },
   "cell_type": "code",
   "source": "question_data[question_data[\"question_id\"].isin([1,2,3])][[\"question_id\", \"news_agency\"]]",
   "id": "6e66f2b08d8c534",
   "outputs": [
    {
     "data": {
      "text/plain": [
       "   question_id news_agency\n",
       "0            1     NyTimes\n",
       "1            2     NyTimes\n",
       "2            3     NyTimes"
      ],
      "text/html": [
       "<div>\n",
       "<style scoped>\n",
       "    .dataframe tbody tr th:only-of-type {\n",
       "        vertical-align: middle;\n",
       "    }\n",
       "\n",
       "    .dataframe tbody tr th {\n",
       "        vertical-align: top;\n",
       "    }\n",
       "\n",
       "    .dataframe thead th {\n",
       "        text-align: right;\n",
       "    }\n",
       "</style>\n",
       "<table border=\"1\" class=\"dataframe\">\n",
       "  <thead>\n",
       "    <tr style=\"text-align: right;\">\n",
       "      <th></th>\n",
       "      <th>question_id</th>\n",
       "      <th>news_agency</th>\n",
       "    </tr>\n",
       "  </thead>\n",
       "  <tbody>\n",
       "    <tr>\n",
       "      <th>0</th>\n",
       "      <td>1</td>\n",
       "      <td>NyTimes</td>\n",
       "    </tr>\n",
       "    <tr>\n",
       "      <th>1</th>\n",
       "      <td>2</td>\n",
       "      <td>NyTimes</td>\n",
       "    </tr>\n",
       "    <tr>\n",
       "      <th>2</th>\n",
       "      <td>3</td>\n",
       "      <td>NyTimes</td>\n",
       "    </tr>\n",
       "  </tbody>\n",
       "</table>\n",
       "</div>"
      ]
     },
     "execution_count": 4,
     "metadata": {},
     "output_type": "execute_result"
    }
   ],
   "execution_count": 4
  },
  {
   "metadata": {},
   "cell_type": "markdown",
   "source": "# Check if some participants did not answer all questions for assessment of single recommendations",
   "id": "f5b52a2260fad4eb"
  },
  {
   "metadata": {
    "ExecuteTime": {
     "end_time": "2024-12-02T12:09:35.290267Z",
     "start_time": "2024-12-02T12:09:35.279859Z"
    }
   },
   "cell_type": "code",
   "source": "comment_answers",
   "id": "de93970da201361d",
   "outputs": [
    {
     "data": {
      "text/plain": [
       "     Unnamed: 0  answer_id  participant_id  question_id news_agency  \\\n",
       "0             0          1               1            5   Breitbart   \n",
       "1             1          2               1            5   Breitbart   \n",
       "2             2          3               1            5   Breitbart   \n",
       "3             3          4               1            5   Breitbart   \n",
       "4             4          5               1            5   Breitbart   \n",
       "..          ...        ...             ...          ...         ...   \n",
       "493         493        494               6            3     NyTimes   \n",
       "494         494        495               6            3     NyTimes   \n",
       "495         495        496               6            3     NyTimes   \n",
       "496         496        497               6            3     NyTimes   \n",
       "497         497        498               6            3     NyTimes   \n",
       "\n",
       "                                              keywords  comment_selection_id  \\\n",
       "0    [Abortion,ACLU,Amendment,ballot initiatives,Ba...                    21   \n",
       "1    [Abortion,ACLU,Amendment,ballot initiatives,Ba...                    21   \n",
       "2    [Abortion,ACLU,Amendment,ballot initiatives,Ba...                    25   \n",
       "3    [Abortion,ACLU,Amendment,ballot initiatives,Ba...                    25   \n",
       "4    [Abortion,ACLU,Amendment,ballot initiatives,Ba...                    21   \n",
       "..                                                 ...                   ...   \n",
       "493  [Greenhouse Gas Emissions, Global Warming, Agr...                    11   \n",
       "494  [Greenhouse Gas Emissions, Global Warming, Agr...                    11   \n",
       "495  [Greenhouse Gas Emissions, Global Warming, Agr...                    14   \n",
       "496  [Greenhouse Gas Emissions, Global Warming, Agr...                    14   \n",
       "497  [Greenhouse Gas Emissions, Global Warming, Agr...                    11   \n",
       "\n",
       "                                          comment_text recommendation_method  \\\n",
       "0            In your case yes, post partum. Like soon.                random   \n",
       "1    It died the minute Trump became the leader of ...                random   \n",
       "2    This decision is absolutely staggering in it's...           news-agency   \n",
       "3    The very opposite is true. Abortion is a moral...           news-agency   \n",
       "4    Yes, it appears to be \"losing\" as more and mor...                random   \n",
       "..                                                 ...                   ...   \n",
       "493  All of the countries, the leadership class, ha...                random   \n",
       "494  Ironically, many northern lands, where ghg are...                random   \n",
       "495  Yes, human beings are extremely adept at ignor...               emotion   \n",
       "496  I am not surprised to find climate change at t...               emotion   \n",
       "497  \"I would argue corrupt governments are a much ...                random   \n",
       "\n",
       "     comment_id  good_recommendation  \n",
       "0            62                False  \n",
       "1            61                False  \n",
       "2            75                 True  \n",
       "3            74                 True  \n",
       "4            63                 True  \n",
       "..          ...                  ...  \n",
       "493          32                 True  \n",
       "494          31                False  \n",
       "495          40                 True  \n",
       "496          41                False  \n",
       "497          33                False  \n",
       "\n",
       "[498 rows x 11 columns]"
      ],
      "text/html": [
       "<div>\n",
       "<style scoped>\n",
       "    .dataframe tbody tr th:only-of-type {\n",
       "        vertical-align: middle;\n",
       "    }\n",
       "\n",
       "    .dataframe tbody tr th {\n",
       "        vertical-align: top;\n",
       "    }\n",
       "\n",
       "    .dataframe thead th {\n",
       "        text-align: right;\n",
       "    }\n",
       "</style>\n",
       "<table border=\"1\" class=\"dataframe\">\n",
       "  <thead>\n",
       "    <tr style=\"text-align: right;\">\n",
       "      <th></th>\n",
       "      <th>Unnamed: 0</th>\n",
       "      <th>answer_id</th>\n",
       "      <th>participant_id</th>\n",
       "      <th>question_id</th>\n",
       "      <th>news_agency</th>\n",
       "      <th>keywords</th>\n",
       "      <th>comment_selection_id</th>\n",
       "      <th>comment_text</th>\n",
       "      <th>recommendation_method</th>\n",
       "      <th>comment_id</th>\n",
       "      <th>good_recommendation</th>\n",
       "    </tr>\n",
       "  </thead>\n",
       "  <tbody>\n",
       "    <tr>\n",
       "      <th>0</th>\n",
       "      <td>0</td>\n",
       "      <td>1</td>\n",
       "      <td>1</td>\n",
       "      <td>5</td>\n",
       "      <td>Breitbart</td>\n",
       "      <td>[Abortion,ACLU,Amendment,ballot initiatives,Ba...</td>\n",
       "      <td>21</td>\n",
       "      <td>In your case yes, post partum. Like soon.</td>\n",
       "      <td>random</td>\n",
       "      <td>62</td>\n",
       "      <td>False</td>\n",
       "    </tr>\n",
       "    <tr>\n",
       "      <th>1</th>\n",
       "      <td>1</td>\n",
       "      <td>2</td>\n",
       "      <td>1</td>\n",
       "      <td>5</td>\n",
       "      <td>Breitbart</td>\n",
       "      <td>[Abortion,ACLU,Amendment,ballot initiatives,Ba...</td>\n",
       "      <td>21</td>\n",
       "      <td>It died the minute Trump became the leader of ...</td>\n",
       "      <td>random</td>\n",
       "      <td>61</td>\n",
       "      <td>False</td>\n",
       "    </tr>\n",
       "    <tr>\n",
       "      <th>2</th>\n",
       "      <td>2</td>\n",
       "      <td>3</td>\n",
       "      <td>1</td>\n",
       "      <td>5</td>\n",
       "      <td>Breitbart</td>\n",
       "      <td>[Abortion,ACLU,Amendment,ballot initiatives,Ba...</td>\n",
       "      <td>25</td>\n",
       "      <td>This decision is absolutely staggering in it's...</td>\n",
       "      <td>news-agency</td>\n",
       "      <td>75</td>\n",
       "      <td>True</td>\n",
       "    </tr>\n",
       "    <tr>\n",
       "      <th>3</th>\n",
       "      <td>3</td>\n",
       "      <td>4</td>\n",
       "      <td>1</td>\n",
       "      <td>5</td>\n",
       "      <td>Breitbart</td>\n",
       "      <td>[Abortion,ACLU,Amendment,ballot initiatives,Ba...</td>\n",
       "      <td>25</td>\n",
       "      <td>The very opposite is true. Abortion is a moral...</td>\n",
       "      <td>news-agency</td>\n",
       "      <td>74</td>\n",
       "      <td>True</td>\n",
       "    </tr>\n",
       "    <tr>\n",
       "      <th>4</th>\n",
       "      <td>4</td>\n",
       "      <td>5</td>\n",
       "      <td>1</td>\n",
       "      <td>5</td>\n",
       "      <td>Breitbart</td>\n",
       "      <td>[Abortion,ACLU,Amendment,ballot initiatives,Ba...</td>\n",
       "      <td>21</td>\n",
       "      <td>Yes, it appears to be \"losing\" as more and mor...</td>\n",
       "      <td>random</td>\n",
       "      <td>63</td>\n",
       "      <td>True</td>\n",
       "    </tr>\n",
       "    <tr>\n",
       "      <th>...</th>\n",
       "      <td>...</td>\n",
       "      <td>...</td>\n",
       "      <td>...</td>\n",
       "      <td>...</td>\n",
       "      <td>...</td>\n",
       "      <td>...</td>\n",
       "      <td>...</td>\n",
       "      <td>...</td>\n",
       "      <td>...</td>\n",
       "      <td>...</td>\n",
       "      <td>...</td>\n",
       "    </tr>\n",
       "    <tr>\n",
       "      <th>493</th>\n",
       "      <td>493</td>\n",
       "      <td>494</td>\n",
       "      <td>6</td>\n",
       "      <td>3</td>\n",
       "      <td>NyTimes</td>\n",
       "      <td>[Greenhouse Gas Emissions, Global Warming, Agr...</td>\n",
       "      <td>11</td>\n",
       "      <td>All of the countries, the leadership class, ha...</td>\n",
       "      <td>random</td>\n",
       "      <td>32</td>\n",
       "      <td>True</td>\n",
       "    </tr>\n",
       "    <tr>\n",
       "      <th>494</th>\n",
       "      <td>494</td>\n",
       "      <td>495</td>\n",
       "      <td>6</td>\n",
       "      <td>3</td>\n",
       "      <td>NyTimes</td>\n",
       "      <td>[Greenhouse Gas Emissions, Global Warming, Agr...</td>\n",
       "      <td>11</td>\n",
       "      <td>Ironically, many northern lands, where ghg are...</td>\n",
       "      <td>random</td>\n",
       "      <td>31</td>\n",
       "      <td>False</td>\n",
       "    </tr>\n",
       "    <tr>\n",
       "      <th>495</th>\n",
       "      <td>495</td>\n",
       "      <td>496</td>\n",
       "      <td>6</td>\n",
       "      <td>3</td>\n",
       "      <td>NyTimes</td>\n",
       "      <td>[Greenhouse Gas Emissions, Global Warming, Agr...</td>\n",
       "      <td>14</td>\n",
       "      <td>Yes, human beings are extremely adept at ignor...</td>\n",
       "      <td>emotion</td>\n",
       "      <td>40</td>\n",
       "      <td>True</td>\n",
       "    </tr>\n",
       "    <tr>\n",
       "      <th>496</th>\n",
       "      <td>496</td>\n",
       "      <td>497</td>\n",
       "      <td>6</td>\n",
       "      <td>3</td>\n",
       "      <td>NyTimes</td>\n",
       "      <td>[Greenhouse Gas Emissions, Global Warming, Agr...</td>\n",
       "      <td>14</td>\n",
       "      <td>I am not surprised to find climate change at t...</td>\n",
       "      <td>emotion</td>\n",
       "      <td>41</td>\n",
       "      <td>False</td>\n",
       "    </tr>\n",
       "    <tr>\n",
       "      <th>497</th>\n",
       "      <td>497</td>\n",
       "      <td>498</td>\n",
       "      <td>6</td>\n",
       "      <td>3</td>\n",
       "      <td>NyTimes</td>\n",
       "      <td>[Greenhouse Gas Emissions, Global Warming, Agr...</td>\n",
       "      <td>11</td>\n",
       "      <td>\"I would argue corrupt governments are a much ...</td>\n",
       "      <td>random</td>\n",
       "      <td>33</td>\n",
       "      <td>False</td>\n",
       "    </tr>\n",
       "  </tbody>\n",
       "</table>\n",
       "<p>498 rows × 11 columns</p>\n",
       "</div>"
      ]
     },
     "execution_count": 5,
     "metadata": {},
     "output_type": "execute_result"
    }
   ],
   "execution_count": 5
  },
  {
   "metadata": {
    "ExecuteTime": {
     "end_time": "2024-12-02T12:09:35.511508Z",
     "start_time": "2024-12-02T12:09:35.502436Z"
    }
   },
   "cell_type": "code",
   "source": [
    "# Find participants who did not finish the evaluation\n",
    "comment_answers.groupby('participant_id').count()"
   ],
   "id": "b6fb63d53198d861",
   "outputs": [
    {
     "data": {
      "text/plain": [
       "                Unnamed: 0  answer_id  question_id  news_agency  keywords  \\\n",
       "participant_id                                                              \n",
       "1                       54         54           54           54        54   \n",
       "2                       54         54           54           54        54   \n",
       "3                       54         54           54           54        54   \n",
       "4                       54         54           54           54        54   \n",
       "6                       12         12           12           12        12   \n",
       "7                       54         54           54           54        54   \n",
       "8                       54         54           54           54        54   \n",
       "9                       54         54           54           54        54   \n",
       "10                      54         54           54           54        54   \n",
       "12                      54         54           54           54        54   \n",
       "\n",
       "                comment_selection_id  comment_text  recommendation_method  \\\n",
       "participant_id                                                              \n",
       "1                                 54            54                     54   \n",
       "2                                 54            54                     54   \n",
       "3                                 54            54                     54   \n",
       "4                                 54            54                     54   \n",
       "6                                 12            12                     12   \n",
       "7                                 54            54                     54   \n",
       "8                                 54            54                     54   \n",
       "9                                 54            54                     54   \n",
       "10                                54            54                     54   \n",
       "12                                54            54                     54   \n",
       "\n",
       "                comment_id  good_recommendation  \n",
       "participant_id                                   \n",
       "1                       54                   54  \n",
       "2                       54                   54  \n",
       "3                       54                   54  \n",
       "4                       54                   54  \n",
       "6                       12                   12  \n",
       "7                       54                   54  \n",
       "8                       54                   54  \n",
       "9                       54                   54  \n",
       "10                      54                   54  \n",
       "12                      54                   54  "
      ],
      "text/html": [
       "<div>\n",
       "<style scoped>\n",
       "    .dataframe tbody tr th:only-of-type {\n",
       "        vertical-align: middle;\n",
       "    }\n",
       "\n",
       "    .dataframe tbody tr th {\n",
       "        vertical-align: top;\n",
       "    }\n",
       "\n",
       "    .dataframe thead th {\n",
       "        text-align: right;\n",
       "    }\n",
       "</style>\n",
       "<table border=\"1\" class=\"dataframe\">\n",
       "  <thead>\n",
       "    <tr style=\"text-align: right;\">\n",
       "      <th></th>\n",
       "      <th>Unnamed: 0</th>\n",
       "      <th>answer_id</th>\n",
       "      <th>question_id</th>\n",
       "      <th>news_agency</th>\n",
       "      <th>keywords</th>\n",
       "      <th>comment_selection_id</th>\n",
       "      <th>comment_text</th>\n",
       "      <th>recommendation_method</th>\n",
       "      <th>comment_id</th>\n",
       "      <th>good_recommendation</th>\n",
       "    </tr>\n",
       "    <tr>\n",
       "      <th>participant_id</th>\n",
       "      <th></th>\n",
       "      <th></th>\n",
       "      <th></th>\n",
       "      <th></th>\n",
       "      <th></th>\n",
       "      <th></th>\n",
       "      <th></th>\n",
       "      <th></th>\n",
       "      <th></th>\n",
       "      <th></th>\n",
       "    </tr>\n",
       "  </thead>\n",
       "  <tbody>\n",
       "    <tr>\n",
       "      <th>1</th>\n",
       "      <td>54</td>\n",
       "      <td>54</td>\n",
       "      <td>54</td>\n",
       "      <td>54</td>\n",
       "      <td>54</td>\n",
       "      <td>54</td>\n",
       "      <td>54</td>\n",
       "      <td>54</td>\n",
       "      <td>54</td>\n",
       "      <td>54</td>\n",
       "    </tr>\n",
       "    <tr>\n",
       "      <th>2</th>\n",
       "      <td>54</td>\n",
       "      <td>54</td>\n",
       "      <td>54</td>\n",
       "      <td>54</td>\n",
       "      <td>54</td>\n",
       "      <td>54</td>\n",
       "      <td>54</td>\n",
       "      <td>54</td>\n",
       "      <td>54</td>\n",
       "      <td>54</td>\n",
       "    </tr>\n",
       "    <tr>\n",
       "      <th>3</th>\n",
       "      <td>54</td>\n",
       "      <td>54</td>\n",
       "      <td>54</td>\n",
       "      <td>54</td>\n",
       "      <td>54</td>\n",
       "      <td>54</td>\n",
       "      <td>54</td>\n",
       "      <td>54</td>\n",
       "      <td>54</td>\n",
       "      <td>54</td>\n",
       "    </tr>\n",
       "    <tr>\n",
       "      <th>4</th>\n",
       "      <td>54</td>\n",
       "      <td>54</td>\n",
       "      <td>54</td>\n",
       "      <td>54</td>\n",
       "      <td>54</td>\n",
       "      <td>54</td>\n",
       "      <td>54</td>\n",
       "      <td>54</td>\n",
       "      <td>54</td>\n",
       "      <td>54</td>\n",
       "    </tr>\n",
       "    <tr>\n",
       "      <th>6</th>\n",
       "      <td>12</td>\n",
       "      <td>12</td>\n",
       "      <td>12</td>\n",
       "      <td>12</td>\n",
       "      <td>12</td>\n",
       "      <td>12</td>\n",
       "      <td>12</td>\n",
       "      <td>12</td>\n",
       "      <td>12</td>\n",
       "      <td>12</td>\n",
       "    </tr>\n",
       "    <tr>\n",
       "      <th>7</th>\n",
       "      <td>54</td>\n",
       "      <td>54</td>\n",
       "      <td>54</td>\n",
       "      <td>54</td>\n",
       "      <td>54</td>\n",
       "      <td>54</td>\n",
       "      <td>54</td>\n",
       "      <td>54</td>\n",
       "      <td>54</td>\n",
       "      <td>54</td>\n",
       "    </tr>\n",
       "    <tr>\n",
       "      <th>8</th>\n",
       "      <td>54</td>\n",
       "      <td>54</td>\n",
       "      <td>54</td>\n",
       "      <td>54</td>\n",
       "      <td>54</td>\n",
       "      <td>54</td>\n",
       "      <td>54</td>\n",
       "      <td>54</td>\n",
       "      <td>54</td>\n",
       "      <td>54</td>\n",
       "    </tr>\n",
       "    <tr>\n",
       "      <th>9</th>\n",
       "      <td>54</td>\n",
       "      <td>54</td>\n",
       "      <td>54</td>\n",
       "      <td>54</td>\n",
       "      <td>54</td>\n",
       "      <td>54</td>\n",
       "      <td>54</td>\n",
       "      <td>54</td>\n",
       "      <td>54</td>\n",
       "      <td>54</td>\n",
       "    </tr>\n",
       "    <tr>\n",
       "      <th>10</th>\n",
       "      <td>54</td>\n",
       "      <td>54</td>\n",
       "      <td>54</td>\n",
       "      <td>54</td>\n",
       "      <td>54</td>\n",
       "      <td>54</td>\n",
       "      <td>54</td>\n",
       "      <td>54</td>\n",
       "      <td>54</td>\n",
       "      <td>54</td>\n",
       "    </tr>\n",
       "    <tr>\n",
       "      <th>12</th>\n",
       "      <td>54</td>\n",
       "      <td>54</td>\n",
       "      <td>54</td>\n",
       "      <td>54</td>\n",
       "      <td>54</td>\n",
       "      <td>54</td>\n",
       "      <td>54</td>\n",
       "      <td>54</td>\n",
       "      <td>54</td>\n",
       "      <td>54</td>\n",
       "    </tr>\n",
       "  </tbody>\n",
       "</table>\n",
       "</div>"
      ]
     },
     "execution_count": 6,
     "metadata": {},
     "output_type": "execute_result"
    }
   ],
   "execution_count": 6
  },
  {
   "metadata": {
    "ExecuteTime": {
     "end_time": "2024-12-02T12:09:35.872562Z",
     "start_time": "2024-12-02T12:09:35.869754Z"
    }
   },
   "cell_type": "code",
   "source": "participant_ids_not_finished = [56]",
   "id": "8454c5e35021d4b1",
   "outputs": [],
   "execution_count": 7
  },
  {
   "metadata": {
    "ExecuteTime": {
     "end_time": "2024-12-02T12:09:36.028803Z",
     "start_time": "2024-12-02T12:09:36.025354Z"
    }
   },
   "cell_type": "code",
   "source": [
    "# Exclude participant 6 who has only 12 answers. All other participants have 54. Participant 5 did not answer a single question \n",
    "comment_answers = comment_answers[~comment_answers.participant_id.isin(participant_ids_not_finished)]"
   ],
   "id": "386865abb88cf8d3",
   "outputs": [],
   "execution_count": 8
  },
  {
   "metadata": {
    "ExecuteTime": {
     "end_time": "2024-12-02T12:09:36.098169Z",
     "start_time": "2024-12-02T12:09:36.088509Z"
    }
   },
   "cell_type": "code",
   "source": [
    "# Check if only participants with 54 answers are present\n",
    "# 6 user comments * (3 model comments (stance, sentiment, emotion) + 3 model comments (news agency based) + 3 random selected comments) = 54 expected comment answers\n",
    "comment_answers.groupby('participant_id').count()"
   ],
   "id": "4dba350806774b88",
   "outputs": [
    {
     "data": {
      "text/plain": [
       "                Unnamed: 0  answer_id  question_id  news_agency  keywords  \\\n",
       "participant_id                                                              \n",
       "1                       54         54           54           54        54   \n",
       "2                       54         54           54           54        54   \n",
       "3                       54         54           54           54        54   \n",
       "4                       54         54           54           54        54   \n",
       "7                       54         54           54           54        54   \n",
       "8                       54         54           54           54        54   \n",
       "9                       54         54           54           54        54   \n",
       "10                      54         54           54           54        54   \n",
       "12                      54         54           54           54        54   \n",
       "\n",
       "                comment_selection_id  comment_text  recommendation_method  \\\n",
       "participant_id                                                              \n",
       "1                                 54            54                     54   \n",
       "2                                 54            54                     54   \n",
       "3                                 54            54                     54   \n",
       "4                                 54            54                     54   \n",
       "7                                 54            54                     54   \n",
       "8                                 54            54                     54   \n",
       "9                                 54            54                     54   \n",
       "10                                54            54                     54   \n",
       "12                                54            54                     54   \n",
       "\n",
       "                comment_id  good_recommendation  \n",
       "participant_id                                   \n",
       "1                       54                   54  \n",
       "2                       54                   54  \n",
       "3                       54                   54  \n",
       "4                       54                   54  \n",
       "7                       54                   54  \n",
       "8                       54                   54  \n",
       "9                       54                   54  \n",
       "10                      54                   54  \n",
       "12                      54                   54  "
      ],
      "text/html": [
       "<div>\n",
       "<style scoped>\n",
       "    .dataframe tbody tr th:only-of-type {\n",
       "        vertical-align: middle;\n",
       "    }\n",
       "\n",
       "    .dataframe tbody tr th {\n",
       "        vertical-align: top;\n",
       "    }\n",
       "\n",
       "    .dataframe thead th {\n",
       "        text-align: right;\n",
       "    }\n",
       "</style>\n",
       "<table border=\"1\" class=\"dataframe\">\n",
       "  <thead>\n",
       "    <tr style=\"text-align: right;\">\n",
       "      <th></th>\n",
       "      <th>Unnamed: 0</th>\n",
       "      <th>answer_id</th>\n",
       "      <th>question_id</th>\n",
       "      <th>news_agency</th>\n",
       "      <th>keywords</th>\n",
       "      <th>comment_selection_id</th>\n",
       "      <th>comment_text</th>\n",
       "      <th>recommendation_method</th>\n",
       "      <th>comment_id</th>\n",
       "      <th>good_recommendation</th>\n",
       "    </tr>\n",
       "    <tr>\n",
       "      <th>participant_id</th>\n",
       "      <th></th>\n",
       "      <th></th>\n",
       "      <th></th>\n",
       "      <th></th>\n",
       "      <th></th>\n",
       "      <th></th>\n",
       "      <th></th>\n",
       "      <th></th>\n",
       "      <th></th>\n",
       "      <th></th>\n",
       "    </tr>\n",
       "  </thead>\n",
       "  <tbody>\n",
       "    <tr>\n",
       "      <th>1</th>\n",
       "      <td>54</td>\n",
       "      <td>54</td>\n",
       "      <td>54</td>\n",
       "      <td>54</td>\n",
       "      <td>54</td>\n",
       "      <td>54</td>\n",
       "      <td>54</td>\n",
       "      <td>54</td>\n",
       "      <td>54</td>\n",
       "      <td>54</td>\n",
       "    </tr>\n",
       "    <tr>\n",
       "      <th>2</th>\n",
       "      <td>54</td>\n",
       "      <td>54</td>\n",
       "      <td>54</td>\n",
       "      <td>54</td>\n",
       "      <td>54</td>\n",
       "      <td>54</td>\n",
       "      <td>54</td>\n",
       "      <td>54</td>\n",
       "      <td>54</td>\n",
       "      <td>54</td>\n",
       "    </tr>\n",
       "    <tr>\n",
       "      <th>3</th>\n",
       "      <td>54</td>\n",
       "      <td>54</td>\n",
       "      <td>54</td>\n",
       "      <td>54</td>\n",
       "      <td>54</td>\n",
       "      <td>54</td>\n",
       "      <td>54</td>\n",
       "      <td>54</td>\n",
       "      <td>54</td>\n",
       "      <td>54</td>\n",
       "    </tr>\n",
       "    <tr>\n",
       "      <th>4</th>\n",
       "      <td>54</td>\n",
       "      <td>54</td>\n",
       "      <td>54</td>\n",
       "      <td>54</td>\n",
       "      <td>54</td>\n",
       "      <td>54</td>\n",
       "      <td>54</td>\n",
       "      <td>54</td>\n",
       "      <td>54</td>\n",
       "      <td>54</td>\n",
       "    </tr>\n",
       "    <tr>\n",
       "      <th>7</th>\n",
       "      <td>54</td>\n",
       "      <td>54</td>\n",
       "      <td>54</td>\n",
       "      <td>54</td>\n",
       "      <td>54</td>\n",
       "      <td>54</td>\n",
       "      <td>54</td>\n",
       "      <td>54</td>\n",
       "      <td>54</td>\n",
       "      <td>54</td>\n",
       "    </tr>\n",
       "    <tr>\n",
       "      <th>8</th>\n",
       "      <td>54</td>\n",
       "      <td>54</td>\n",
       "      <td>54</td>\n",
       "      <td>54</td>\n",
       "      <td>54</td>\n",
       "      <td>54</td>\n",
       "      <td>54</td>\n",
       "      <td>54</td>\n",
       "      <td>54</td>\n",
       "      <td>54</td>\n",
       "    </tr>\n",
       "    <tr>\n",
       "      <th>9</th>\n",
       "      <td>54</td>\n",
       "      <td>54</td>\n",
       "      <td>54</td>\n",
       "      <td>54</td>\n",
       "      <td>54</td>\n",
       "      <td>54</td>\n",
       "      <td>54</td>\n",
       "      <td>54</td>\n",
       "      <td>54</td>\n",
       "      <td>54</td>\n",
       "    </tr>\n",
       "    <tr>\n",
       "      <th>10</th>\n",
       "      <td>54</td>\n",
       "      <td>54</td>\n",
       "      <td>54</td>\n",
       "      <td>54</td>\n",
       "      <td>54</td>\n",
       "      <td>54</td>\n",
       "      <td>54</td>\n",
       "      <td>54</td>\n",
       "      <td>54</td>\n",
       "      <td>54</td>\n",
       "    </tr>\n",
       "    <tr>\n",
       "      <th>12</th>\n",
       "      <td>54</td>\n",
       "      <td>54</td>\n",
       "      <td>54</td>\n",
       "      <td>54</td>\n",
       "      <td>54</td>\n",
       "      <td>54</td>\n",
       "      <td>54</td>\n",
       "      <td>54</td>\n",
       "      <td>54</td>\n",
       "      <td>54</td>\n",
       "    </tr>\n",
       "  </tbody>\n",
       "</table>\n",
       "</div>"
      ]
     },
     "execution_count": 9,
     "metadata": {},
     "output_type": "execute_result"
    }
   ],
   "execution_count": 9
  },
  {
   "metadata": {},
   "cell_type": "markdown",
   "source": "# Check if some participants did not answer all questiosn to assess if model recommendations are more diverse than random recommendation",
   "id": "66ad73e32a79bfd3"
  },
  {
   "metadata": {
    "ExecuteTime": {
     "end_time": "2024-12-02T12:09:36.209292Z",
     "start_time": "2024-12-02T12:09:36.196373Z"
    }
   },
   "cell_type": "code",
   "source": "viewpoint_answers\n",
   "id": "8add1282bbfa65fb",
   "outputs": [
    {
     "data": {
      "text/plain": [
       "     Unnamed: 0  question_id  \\\n",
       "0             0            5   \n",
       "1             1            2   \n",
       "2             2            3   \n",
       "3             3            5   \n",
       "4             4            6   \n",
       "..          ...          ...   \n",
       "105         105            3   \n",
       "106         106            1   \n",
       "107         107            2   \n",
       "108         108            1   \n",
       "109         109            3   \n",
       "\n",
       "                                          user_comment  \\\n",
       "0    The difference is that all the unborn are inno...   \n",
       "1    Abortion is a safe medical procedure and has n...   \n",
       "2    You do not have to go this far across the to s...   \n",
       "3    The difference is that all the unborn are inno...   \n",
       "4    Man made climate change is a myth, which is pr...   \n",
       "..                                                 ...   \n",
       "105  You do not have to go this far across the to s...   \n",
       "106  This is a funny column.  But seriously folks, ...   \n",
       "107  Abortion is a safe medical procedure and has n...   \n",
       "108  This is a funny column.  But seriously folks, ...   \n",
       "109  You do not have to go this far across the to s...   \n",
       "\n",
       "                                              keywords news_agency  \\\n",
       "0    [Abortion,ACLU,Amendment,ballot initiatives,Ba...   Breitbart   \n",
       "1    [Abortion, Birth Control and Family Planning, ...     NyTimes   \n",
       "2    [Greenhouse Gas Emissions, Global Warming, Agr...     NyTimes   \n",
       "3    [Abortion,ACLU,Amendment,ballot initiatives,Ba...   Breitbart   \n",
       "4    [climate alarmism,Climate Change,Global Warmin...   Breitbart   \n",
       "..                                                 ...         ...   \n",
       "105  [Greenhouse Gas Emissions, Global Warming, Agr...     NyTimes   \n",
       "106  [United States Politics and Government, Trump ...     NyTimes   \n",
       "107  [Abortion, Birth Control and Family Planning, ...     NyTimes   \n",
       "108  [United States Politics and Government, Trump ...     NyTimes   \n",
       "109  [Greenhouse Gas Emissions, Global Warming, Agr...     NyTimes   \n",
       "\n",
       "    recommendation_method selected_recommendation_method  participant_id  \n",
       "0             news-agency                    news-agency               1  \n",
       "1                 emotion                        emotion               1  \n",
       "2                  stance                         stance               1  \n",
       "3                 emotion                        emotion               1  \n",
       "4             news-agency                    news-agency               1  \n",
       "..                    ...                            ...             ...  \n",
       "105           news-agency                   no_selection               4  \n",
       "106             sentiment                   no_selection               4  \n",
       "107                stance                         random               4  \n",
       "108               emotion                        emotion               6  \n",
       "109               emotion                        emotion               6  \n",
       "\n",
       "[110 rows x 8 columns]"
      ],
      "text/html": [
       "<div>\n",
       "<style scoped>\n",
       "    .dataframe tbody tr th:only-of-type {\n",
       "        vertical-align: middle;\n",
       "    }\n",
       "\n",
       "    .dataframe tbody tr th {\n",
       "        vertical-align: top;\n",
       "    }\n",
       "\n",
       "    .dataframe thead th {\n",
       "        text-align: right;\n",
       "    }\n",
       "</style>\n",
       "<table border=\"1\" class=\"dataframe\">\n",
       "  <thead>\n",
       "    <tr style=\"text-align: right;\">\n",
       "      <th></th>\n",
       "      <th>Unnamed: 0</th>\n",
       "      <th>question_id</th>\n",
       "      <th>user_comment</th>\n",
       "      <th>keywords</th>\n",
       "      <th>news_agency</th>\n",
       "      <th>recommendation_method</th>\n",
       "      <th>selected_recommendation_method</th>\n",
       "      <th>participant_id</th>\n",
       "    </tr>\n",
       "  </thead>\n",
       "  <tbody>\n",
       "    <tr>\n",
       "      <th>0</th>\n",
       "      <td>0</td>\n",
       "      <td>5</td>\n",
       "      <td>The difference is that all the unborn are inno...</td>\n",
       "      <td>[Abortion,ACLU,Amendment,ballot initiatives,Ba...</td>\n",
       "      <td>Breitbart</td>\n",
       "      <td>news-agency</td>\n",
       "      <td>news-agency</td>\n",
       "      <td>1</td>\n",
       "    </tr>\n",
       "    <tr>\n",
       "      <th>1</th>\n",
       "      <td>1</td>\n",
       "      <td>2</td>\n",
       "      <td>Abortion is a safe medical procedure and has n...</td>\n",
       "      <td>[Abortion, Birth Control and Family Planning, ...</td>\n",
       "      <td>NyTimes</td>\n",
       "      <td>emotion</td>\n",
       "      <td>emotion</td>\n",
       "      <td>1</td>\n",
       "    </tr>\n",
       "    <tr>\n",
       "      <th>2</th>\n",
       "      <td>2</td>\n",
       "      <td>3</td>\n",
       "      <td>You do not have to go this far across the to s...</td>\n",
       "      <td>[Greenhouse Gas Emissions, Global Warming, Agr...</td>\n",
       "      <td>NyTimes</td>\n",
       "      <td>stance</td>\n",
       "      <td>stance</td>\n",
       "      <td>1</td>\n",
       "    </tr>\n",
       "    <tr>\n",
       "      <th>3</th>\n",
       "      <td>3</td>\n",
       "      <td>5</td>\n",
       "      <td>The difference is that all the unborn are inno...</td>\n",
       "      <td>[Abortion,ACLU,Amendment,ballot initiatives,Ba...</td>\n",
       "      <td>Breitbart</td>\n",
       "      <td>emotion</td>\n",
       "      <td>emotion</td>\n",
       "      <td>1</td>\n",
       "    </tr>\n",
       "    <tr>\n",
       "      <th>4</th>\n",
       "      <td>4</td>\n",
       "      <td>6</td>\n",
       "      <td>Man made climate change is a myth, which is pr...</td>\n",
       "      <td>[climate alarmism,Climate Change,Global Warmin...</td>\n",
       "      <td>Breitbart</td>\n",
       "      <td>news-agency</td>\n",
       "      <td>news-agency</td>\n",
       "      <td>1</td>\n",
       "    </tr>\n",
       "    <tr>\n",
       "      <th>...</th>\n",
       "      <td>...</td>\n",
       "      <td>...</td>\n",
       "      <td>...</td>\n",
       "      <td>...</td>\n",
       "      <td>...</td>\n",
       "      <td>...</td>\n",
       "      <td>...</td>\n",
       "      <td>...</td>\n",
       "    </tr>\n",
       "    <tr>\n",
       "      <th>105</th>\n",
       "      <td>105</td>\n",
       "      <td>3</td>\n",
       "      <td>You do not have to go this far across the to s...</td>\n",
       "      <td>[Greenhouse Gas Emissions, Global Warming, Agr...</td>\n",
       "      <td>NyTimes</td>\n",
       "      <td>news-agency</td>\n",
       "      <td>no_selection</td>\n",
       "      <td>4</td>\n",
       "    </tr>\n",
       "    <tr>\n",
       "      <th>106</th>\n",
       "      <td>106</td>\n",
       "      <td>1</td>\n",
       "      <td>This is a funny column.  But seriously folks, ...</td>\n",
       "      <td>[United States Politics and Government, Trump ...</td>\n",
       "      <td>NyTimes</td>\n",
       "      <td>sentiment</td>\n",
       "      <td>no_selection</td>\n",
       "      <td>4</td>\n",
       "    </tr>\n",
       "    <tr>\n",
       "      <th>107</th>\n",
       "      <td>107</td>\n",
       "      <td>2</td>\n",
       "      <td>Abortion is a safe medical procedure and has n...</td>\n",
       "      <td>[Abortion, Birth Control and Family Planning, ...</td>\n",
       "      <td>NyTimes</td>\n",
       "      <td>stance</td>\n",
       "      <td>random</td>\n",
       "      <td>4</td>\n",
       "    </tr>\n",
       "    <tr>\n",
       "      <th>108</th>\n",
       "      <td>108</td>\n",
       "      <td>1</td>\n",
       "      <td>This is a funny column.  But seriously folks, ...</td>\n",
       "      <td>[United States Politics and Government, Trump ...</td>\n",
       "      <td>NyTimes</td>\n",
       "      <td>emotion</td>\n",
       "      <td>emotion</td>\n",
       "      <td>6</td>\n",
       "    </tr>\n",
       "    <tr>\n",
       "      <th>109</th>\n",
       "      <td>109</td>\n",
       "      <td>3</td>\n",
       "      <td>You do not have to go this far across the to s...</td>\n",
       "      <td>[Greenhouse Gas Emissions, Global Warming, Agr...</td>\n",
       "      <td>NyTimes</td>\n",
       "      <td>emotion</td>\n",
       "      <td>emotion</td>\n",
       "      <td>6</td>\n",
       "    </tr>\n",
       "  </tbody>\n",
       "</table>\n",
       "<p>110 rows × 8 columns</p>\n",
       "</div>"
      ]
     },
     "execution_count": 10,
     "metadata": {},
     "output_type": "execute_result"
    }
   ],
   "execution_count": 10
  },
  {
   "metadata": {
    "ExecuteTime": {
     "end_time": "2024-12-02T12:09:36.290235Z",
     "start_time": "2024-12-02T12:09:36.282915Z"
    }
   },
   "cell_type": "code",
   "source": "viewpoint_answers.groupby('participant_id').count()\n",
   "id": "7c5ceeb631ccb9a9",
   "outputs": [
    {
     "data": {
      "text/plain": [
       "                Unnamed: 0  question_id  user_comment  keywords  news_agency  \\\n",
       "participant_id                                                                 \n",
       "1                       12           12            12        12           12   \n",
       "2                       12           12            12        12           12   \n",
       "3                       12           12            12        12           12   \n",
       "4                       12           12            12        12           12   \n",
       "6                        2            2             2         2            2   \n",
       "7                       12           12            12        12           12   \n",
       "8                       12           12            12        12           12   \n",
       "9                       12           12            12        12           12   \n",
       "10                      12           12            12        12           12   \n",
       "12                      12           12            12        12           12   \n",
       "\n",
       "                recommendation_method  selected_recommendation_method  \n",
       "participant_id                                                         \n",
       "1                                  12                              12  \n",
       "2                                  12                              12  \n",
       "3                                  12                              12  \n",
       "4                                  12                              12  \n",
       "6                                   2                               2  \n",
       "7                                  12                              12  \n",
       "8                                  12                              12  \n",
       "9                                  12                              12  \n",
       "10                                 12                              12  \n",
       "12                                 12                              12  "
      ],
      "text/html": [
       "<div>\n",
       "<style scoped>\n",
       "    .dataframe tbody tr th:only-of-type {\n",
       "        vertical-align: middle;\n",
       "    }\n",
       "\n",
       "    .dataframe tbody tr th {\n",
       "        vertical-align: top;\n",
       "    }\n",
       "\n",
       "    .dataframe thead th {\n",
       "        text-align: right;\n",
       "    }\n",
       "</style>\n",
       "<table border=\"1\" class=\"dataframe\">\n",
       "  <thead>\n",
       "    <tr style=\"text-align: right;\">\n",
       "      <th></th>\n",
       "      <th>Unnamed: 0</th>\n",
       "      <th>question_id</th>\n",
       "      <th>user_comment</th>\n",
       "      <th>keywords</th>\n",
       "      <th>news_agency</th>\n",
       "      <th>recommendation_method</th>\n",
       "      <th>selected_recommendation_method</th>\n",
       "    </tr>\n",
       "    <tr>\n",
       "      <th>participant_id</th>\n",
       "      <th></th>\n",
       "      <th></th>\n",
       "      <th></th>\n",
       "      <th></th>\n",
       "      <th></th>\n",
       "      <th></th>\n",
       "      <th></th>\n",
       "    </tr>\n",
       "  </thead>\n",
       "  <tbody>\n",
       "    <tr>\n",
       "      <th>1</th>\n",
       "      <td>12</td>\n",
       "      <td>12</td>\n",
       "      <td>12</td>\n",
       "      <td>12</td>\n",
       "      <td>12</td>\n",
       "      <td>12</td>\n",
       "      <td>12</td>\n",
       "    </tr>\n",
       "    <tr>\n",
       "      <th>2</th>\n",
       "      <td>12</td>\n",
       "      <td>12</td>\n",
       "      <td>12</td>\n",
       "      <td>12</td>\n",
       "      <td>12</td>\n",
       "      <td>12</td>\n",
       "      <td>12</td>\n",
       "    </tr>\n",
       "    <tr>\n",
       "      <th>3</th>\n",
       "      <td>12</td>\n",
       "      <td>12</td>\n",
       "      <td>12</td>\n",
       "      <td>12</td>\n",
       "      <td>12</td>\n",
       "      <td>12</td>\n",
       "      <td>12</td>\n",
       "    </tr>\n",
       "    <tr>\n",
       "      <th>4</th>\n",
       "      <td>12</td>\n",
       "      <td>12</td>\n",
       "      <td>12</td>\n",
       "      <td>12</td>\n",
       "      <td>12</td>\n",
       "      <td>12</td>\n",
       "      <td>12</td>\n",
       "    </tr>\n",
       "    <tr>\n",
       "      <th>6</th>\n",
       "      <td>2</td>\n",
       "      <td>2</td>\n",
       "      <td>2</td>\n",
       "      <td>2</td>\n",
       "      <td>2</td>\n",
       "      <td>2</td>\n",
       "      <td>2</td>\n",
       "    </tr>\n",
       "    <tr>\n",
       "      <th>7</th>\n",
       "      <td>12</td>\n",
       "      <td>12</td>\n",
       "      <td>12</td>\n",
       "      <td>12</td>\n",
       "      <td>12</td>\n",
       "      <td>12</td>\n",
       "      <td>12</td>\n",
       "    </tr>\n",
       "    <tr>\n",
       "      <th>8</th>\n",
       "      <td>12</td>\n",
       "      <td>12</td>\n",
       "      <td>12</td>\n",
       "      <td>12</td>\n",
       "      <td>12</td>\n",
       "      <td>12</td>\n",
       "      <td>12</td>\n",
       "    </tr>\n",
       "    <tr>\n",
       "      <th>9</th>\n",
       "      <td>12</td>\n",
       "      <td>12</td>\n",
       "      <td>12</td>\n",
       "      <td>12</td>\n",
       "      <td>12</td>\n",
       "      <td>12</td>\n",
       "      <td>12</td>\n",
       "    </tr>\n",
       "    <tr>\n",
       "      <th>10</th>\n",
       "      <td>12</td>\n",
       "      <td>12</td>\n",
       "      <td>12</td>\n",
       "      <td>12</td>\n",
       "      <td>12</td>\n",
       "      <td>12</td>\n",
       "      <td>12</td>\n",
       "    </tr>\n",
       "    <tr>\n",
       "      <th>12</th>\n",
       "      <td>12</td>\n",
       "      <td>12</td>\n",
       "      <td>12</td>\n",
       "      <td>12</td>\n",
       "      <td>12</td>\n",
       "      <td>12</td>\n",
       "      <td>12</td>\n",
       "    </tr>\n",
       "  </tbody>\n",
       "</table>\n",
       "</div>"
      ]
     },
     "execution_count": 11,
     "metadata": {},
     "output_type": "execute_result"
    }
   ],
   "execution_count": 11
  },
  {
   "metadata": {
    "ExecuteTime": {
     "end_time": "2024-12-02T12:09:36.345028Z",
     "start_time": "2024-12-02T12:09:36.341854Z"
    }
   },
   "cell_type": "code",
   "source": "viewpoint_answers = viewpoint_answers[~viewpoint_answers['participant_id'].isin(participant_ids_not_finished)]\n",
   "id": "395289f9912e8457",
   "outputs": [],
   "execution_count": 12
  },
  {
   "metadata": {
    "ExecuteTime": {
     "end_time": "2024-12-02T12:09:36.376869Z",
     "start_time": "2024-12-02T12:09:36.367654Z"
    }
   },
   "cell_type": "code",
   "source": [
    "# Participants who finished the user study answered 12 point of view questions\n",
    "# 6 user comments * (1 set of comments (Stance, Emotion, Sentiment) + 1 set of comments (News Agency) = 12 answers\n",
    "viewpoint_answers.groupby('participant_id').count()"
   ],
   "id": "ed1823c66c2f2cf3",
   "outputs": [
    {
     "data": {
      "text/plain": [
       "                Unnamed: 0  question_id  user_comment  keywords  news_agency  \\\n",
       "participant_id                                                                 \n",
       "1                       12           12            12        12           12   \n",
       "2                       12           12            12        12           12   \n",
       "3                       12           12            12        12           12   \n",
       "4                       12           12            12        12           12   \n",
       "7                       12           12            12        12           12   \n",
       "8                       12           12            12        12           12   \n",
       "9                       12           12            12        12           12   \n",
       "10                      12           12            12        12           12   \n",
       "12                      12           12            12        12           12   \n",
       "\n",
       "                recommendation_method  selected_recommendation_method  \n",
       "participant_id                                                         \n",
       "1                                  12                              12  \n",
       "2                                  12                              12  \n",
       "3                                  12                              12  \n",
       "4                                  12                              12  \n",
       "7                                  12                              12  \n",
       "8                                  12                              12  \n",
       "9                                  12                              12  \n",
       "10                                 12                              12  \n",
       "12                                 12                              12  "
      ],
      "text/html": [
       "<div>\n",
       "<style scoped>\n",
       "    .dataframe tbody tr th:only-of-type {\n",
       "        vertical-align: middle;\n",
       "    }\n",
       "\n",
       "    .dataframe tbody tr th {\n",
       "        vertical-align: top;\n",
       "    }\n",
       "\n",
       "    .dataframe thead th {\n",
       "        text-align: right;\n",
       "    }\n",
       "</style>\n",
       "<table border=\"1\" class=\"dataframe\">\n",
       "  <thead>\n",
       "    <tr style=\"text-align: right;\">\n",
       "      <th></th>\n",
       "      <th>Unnamed: 0</th>\n",
       "      <th>question_id</th>\n",
       "      <th>user_comment</th>\n",
       "      <th>keywords</th>\n",
       "      <th>news_agency</th>\n",
       "      <th>recommendation_method</th>\n",
       "      <th>selected_recommendation_method</th>\n",
       "    </tr>\n",
       "    <tr>\n",
       "      <th>participant_id</th>\n",
       "      <th></th>\n",
       "      <th></th>\n",
       "      <th></th>\n",
       "      <th></th>\n",
       "      <th></th>\n",
       "      <th></th>\n",
       "      <th></th>\n",
       "    </tr>\n",
       "  </thead>\n",
       "  <tbody>\n",
       "    <tr>\n",
       "      <th>1</th>\n",
       "      <td>12</td>\n",
       "      <td>12</td>\n",
       "      <td>12</td>\n",
       "      <td>12</td>\n",
       "      <td>12</td>\n",
       "      <td>12</td>\n",
       "      <td>12</td>\n",
       "    </tr>\n",
       "    <tr>\n",
       "      <th>2</th>\n",
       "      <td>12</td>\n",
       "      <td>12</td>\n",
       "      <td>12</td>\n",
       "      <td>12</td>\n",
       "      <td>12</td>\n",
       "      <td>12</td>\n",
       "      <td>12</td>\n",
       "    </tr>\n",
       "    <tr>\n",
       "      <th>3</th>\n",
       "      <td>12</td>\n",
       "      <td>12</td>\n",
       "      <td>12</td>\n",
       "      <td>12</td>\n",
       "      <td>12</td>\n",
       "      <td>12</td>\n",
       "      <td>12</td>\n",
       "    </tr>\n",
       "    <tr>\n",
       "      <th>4</th>\n",
       "      <td>12</td>\n",
       "      <td>12</td>\n",
       "      <td>12</td>\n",
       "      <td>12</td>\n",
       "      <td>12</td>\n",
       "      <td>12</td>\n",
       "      <td>12</td>\n",
       "    </tr>\n",
       "    <tr>\n",
       "      <th>7</th>\n",
       "      <td>12</td>\n",
       "      <td>12</td>\n",
       "      <td>12</td>\n",
       "      <td>12</td>\n",
       "      <td>12</td>\n",
       "      <td>12</td>\n",
       "      <td>12</td>\n",
       "    </tr>\n",
       "    <tr>\n",
       "      <th>8</th>\n",
       "      <td>12</td>\n",
       "      <td>12</td>\n",
       "      <td>12</td>\n",
       "      <td>12</td>\n",
       "      <td>12</td>\n",
       "      <td>12</td>\n",
       "      <td>12</td>\n",
       "    </tr>\n",
       "    <tr>\n",
       "      <th>9</th>\n",
       "      <td>12</td>\n",
       "      <td>12</td>\n",
       "      <td>12</td>\n",
       "      <td>12</td>\n",
       "      <td>12</td>\n",
       "      <td>12</td>\n",
       "      <td>12</td>\n",
       "    </tr>\n",
       "    <tr>\n",
       "      <th>10</th>\n",
       "      <td>12</td>\n",
       "      <td>12</td>\n",
       "      <td>12</td>\n",
       "      <td>12</td>\n",
       "      <td>12</td>\n",
       "      <td>12</td>\n",
       "      <td>12</td>\n",
       "    </tr>\n",
       "    <tr>\n",
       "      <th>12</th>\n",
       "      <td>12</td>\n",
       "      <td>12</td>\n",
       "      <td>12</td>\n",
       "      <td>12</td>\n",
       "      <td>12</td>\n",
       "      <td>12</td>\n",
       "      <td>12</td>\n",
       "    </tr>\n",
       "  </tbody>\n",
       "</table>\n",
       "</div>"
      ]
     },
     "execution_count": 13,
     "metadata": {},
     "output_type": "execute_result"
    }
   ],
   "execution_count": 13
  },
  {
   "metadata": {},
   "cell_type": "markdown",
   "source": "# Percentages for Quality of Recommendations for Single Comments",
   "id": "e71f286de8e9c7e"
  },
  {
   "metadata": {
    "ExecuteTime": {
     "end_time": "2024-12-02T12:09:36.394507Z",
     "start_time": "2024-12-02T12:09:36.391462Z"
    }
   },
   "cell_type": "code",
   "source": [
    "def compute_percentage_for_model_comment_answer_per_question(question_id, pd_data_frame):\n",
    "    return round(len(pd_data_frame[(pd_data_frame['question_id'] == question_id) & (pd_data_frame['recommendation_method'].isin(['stance', 'sentiment', 'emotion', 'news-agency'])) & (pd_data_frame['good_recommendation'] == True)].index) /   len(pd_data_frame[(pd_data_frame['question_id'] == question_id) & (pd_data_frame['recommendation_method'].isin(['stance', 'sentiment', 'emotion', 'news-agency']))].index), 2) * 100"
   ],
   "id": "7a09aa2d1cc786f4",
   "outputs": [],
   "execution_count": 14
  },
  {
   "metadata": {
    "ExecuteTime": {
     "end_time": "2024-12-02T12:09:36.486233Z",
     "start_time": "2024-12-02T12:09:36.483145Z"
    }
   },
   "cell_type": "code",
   "source": [
    "def compute_percentage_for_random_comment_answer_per_question(question_id, pd_data_frame):\n",
    "    return round(len(pd_data_frame[(pd_data_frame['question_id'] == question_id) & (~pd_data_frame['recommendation_method'].isin(['stance', 'sentiment', 'emotion', 'news-agency'])) & (pd_data_frame['good_recommendation'] == True)].index) /   len(pd_data_frame[(pd_data_frame['question_id'] == question_id) & (~pd_data_frame['recommendation_method'].isin(['stance', 'sentiment', 'emotion', 'news-agency']))].index),2) * 100"
   ],
   "id": "7e144da4b8a7ecb9",
   "outputs": [],
   "execution_count": 15
  },
  {
   "metadata": {
    "ExecuteTime": {
     "end_time": "2024-12-02T12:09:36.553682Z",
     "start_time": "2024-12-02T12:09:36.535646Z"
    }
   },
   "cell_type": "code",
   "source": [
    "question_id = [1,2,3,4,5,6]\n",
    "random_percentages = [compute_percentage_for_random_comment_answer_per_question(1, comment_answers),\n",
    "                      compute_percentage_for_random_comment_answer_per_question(2, comment_answers),\n",
    "                      compute_percentage_for_random_comment_answer_per_question(3, comment_answers),\n",
    "                      compute_percentage_for_random_comment_answer_per_question(4, comment_answers),\n",
    "                      compute_percentage_for_random_comment_answer_per_question(5, comment_answers),\n",
    "                      compute_percentage_for_random_comment_answer_per_question(6, comment_answers)]\n",
    "model_percentages = [compute_percentage_for_model_comment_answer_per_question(1, comment_answers),\n",
    "                     compute_percentage_for_model_comment_answer_per_question(2, comment_answers),\n",
    "                     compute_percentage_for_model_comment_answer_per_question(3, comment_answers),\n",
    "                     compute_percentage_for_model_comment_answer_per_question(4, comment_answers),\n",
    "                     compute_percentage_for_model_comment_answer_per_question(5, comment_answers),\n",
    "                     compute_percentage_for_model_comment_answer_per_question(6, comment_answers)]\n",
    "percentages_comment_answer_per_question = pd.DataFrame({\n",
    "    \"question_id\": question_id,\n",
    "    \"model_percentages\": model_percentages,\n",
    "    \"random_percentages\": random_percentages,}\n",
    ")"
   ],
   "id": "3924b6bb6d525627",
   "outputs": [],
   "execution_count": 16
  },
  {
   "metadata": {
    "ExecuteTime": {
     "end_time": "2024-12-02T12:09:36.597654Z",
     "start_time": "2024-12-02T12:09:36.591191Z"
    }
   },
   "cell_type": "code",
   "source": "percentages_comment_answer_per_question",
   "id": "a6ec0361cdb89e5",
   "outputs": [
    {
     "data": {
      "text/plain": [
       "   question_id  model_percentages  random_percentages\n",
       "0            1               54.0                56.0\n",
       "1            2               67.0                63.0\n",
       "2            3               87.0                48.0\n",
       "3            4               57.0                 4.0\n",
       "4            5               72.0                33.0\n",
       "5            6               85.0                 7.0"
      ],
      "text/html": [
       "<div>\n",
       "<style scoped>\n",
       "    .dataframe tbody tr th:only-of-type {\n",
       "        vertical-align: middle;\n",
       "    }\n",
       "\n",
       "    .dataframe tbody tr th {\n",
       "        vertical-align: top;\n",
       "    }\n",
       "\n",
       "    .dataframe thead th {\n",
       "        text-align: right;\n",
       "    }\n",
       "</style>\n",
       "<table border=\"1\" class=\"dataframe\">\n",
       "  <thead>\n",
       "    <tr style=\"text-align: right;\">\n",
       "      <th></th>\n",
       "      <th>question_id</th>\n",
       "      <th>model_percentages</th>\n",
       "      <th>random_percentages</th>\n",
       "    </tr>\n",
       "  </thead>\n",
       "  <tbody>\n",
       "    <tr>\n",
       "      <th>0</th>\n",
       "      <td>1</td>\n",
       "      <td>54.0</td>\n",
       "      <td>56.0</td>\n",
       "    </tr>\n",
       "    <tr>\n",
       "      <th>1</th>\n",
       "      <td>2</td>\n",
       "      <td>67.0</td>\n",
       "      <td>63.0</td>\n",
       "    </tr>\n",
       "    <tr>\n",
       "      <th>2</th>\n",
       "      <td>3</td>\n",
       "      <td>87.0</td>\n",
       "      <td>48.0</td>\n",
       "    </tr>\n",
       "    <tr>\n",
       "      <th>3</th>\n",
       "      <td>4</td>\n",
       "      <td>57.0</td>\n",
       "      <td>4.0</td>\n",
       "    </tr>\n",
       "    <tr>\n",
       "      <th>4</th>\n",
       "      <td>5</td>\n",
       "      <td>72.0</td>\n",
       "      <td>33.0</td>\n",
       "    </tr>\n",
       "    <tr>\n",
       "      <th>5</th>\n",
       "      <td>6</td>\n",
       "      <td>85.0</td>\n",
       "      <td>7.0</td>\n",
       "    </tr>\n",
       "  </tbody>\n",
       "</table>\n",
       "</div>"
      ]
     },
     "execution_count": 17,
     "metadata": {},
     "output_type": "execute_result"
    }
   ],
   "execution_count": 17
  },
  {
   "metadata": {
    "ExecuteTime": {
     "end_time": "2024-12-02T12:09:36.617Z",
     "start_time": "2024-12-02T12:09:36.614709Z"
    }
   },
   "cell_type": "code",
   "source": "",
   "id": "a0629855d3ceca99",
   "outputs": [],
   "execution_count": 17
  },
  {
   "metadata": {
    "ExecuteTime": {
     "end_time": "2024-12-02T12:09:36.716574Z",
     "start_time": "2024-12-02T12:09:36.711882Z"
    }
   },
   "cell_type": "code",
   "source": [
    "# \n",
    "print(f\"Mean Percentage of Percentage Values for Model:  {round(mean(model_percentages),2)} +/- {round(stdev(model_percentages), 2)}\")\n",
    "print(f\"Mean Percentage of Percentage Values for Random:  {round(mean(random_percentages),2)} +/- {round(stdev(random_percentages), 2)}\")"
   ],
   "id": "a3b6370953be8aed",
   "outputs": [
    {
     "name": "stdout",
     "output_type": "stream",
     "text": [
      "Mean Percentage of Percentage Values for Model:  70.33 +/- 13.79\n",
      "Mean Percentage of Percentage Values for Random:  35.17 +/- 25.07\n"
     ]
    }
   ],
   "execution_count": 18
  },
  {
   "metadata": {
    "ExecuteTime": {
     "end_time": "2024-12-02T12:09:37.261367Z",
     "start_time": "2024-12-02T12:09:36.781869Z"
    }
   },
   "cell_type": "code",
   "source": [
    "x = percentages_comment_answer_per_question[\"question_id\"].values\n",
    "y_1 = percentages_comment_answer_per_question[\"model_percentages\"].values\n",
    "y_2 = percentages_comment_answer_per_question[\"random_percentages\"].values\n",
    "\n",
    "plt.figure(figsize=(10, 6))\n",
    "\n",
    "plt.ylim(0, 120)\n",
    "\n",
    "plt.bar(x - 0.25, y_1, 0.4, label='Quality of Recommendations of Single Comments (Model)')\n",
    "plt.bar(x + 0.25, y_2, 0.4, label='Quality of Recommendations of Single Comments (Random)')\n",
    "\n",
    "plt.xlabel('User Comment ID')\n",
    "plt.ylabel('Percentage')\n",
    "\n",
    "plt.legend()\n",
    "\n",
    "plt.savefig('figures/quality_of_recommendations_per_question_model_vs_random.pdf', format='pdf', dpi=500, bbox_inches='tight')\n",
    "plt.show()"
   ],
   "id": "920e293ed7d5c11e",
   "outputs": [
    {
     "data": {
      "text/plain": [
       "<Figure size 1000x600 with 1 Axes>"
      ],
      "image/png": "[encoded data removed]"
     },
     "metadata": {},
     "output_type": "display_data"
    }
   ],
   "execution_count": 19
  },
  {
   "metadata": {},
   "cell_type": "markdown",
   "source": "",
   "id": "59980a67a03ce432"
  },
  {
   "metadata": {},
   "cell_type": "markdown",
   "source": "# Compute Percentage of model over random regarding diversity",
   "id": "7eb016f972bbe599"
  },
  {
   "metadata": {
    "ExecuteTime": {
     "end_time": "2024-12-02T12:09:37.265561Z",
     "start_time": "2024-12-02T12:09:37.262518Z"
    }
   },
   "cell_type": "code",
   "source": [
    "def compute_percentage_point_of_view_comment_answer_for_question(question_id):\n",
    "    return round(len(viewpoint_answers[(viewpoint_answers['question_id'] == question_id) & (viewpoint_answers['recommendation_method'] == viewpoint_answers['selected_recommendation_method'])].index) / len(viewpoint_answers[(viewpoint_answers['question_id'] == question_id)].index), 2) * 100    "
   ],
   "id": "bbc54f0dee93397",
   "outputs": [],
   "execution_count": 20
  },
  {
   "metadata": {
    "ExecuteTime": {
     "end_time": "2024-12-02T12:09:37.281404Z",
     "start_time": "2024-12-02T12:09:37.266499Z"
    }
   },
   "cell_type": "code",
   "source": [
    "question_ids = [1,2,3,4,5,6]\n",
    "percentages = []\n",
    "for question_id in question_ids:\n",
    "    percentages.append(compute_percentage_point_of_view_comment_answer_for_question(question_id))"
   ],
   "id": "3c1b57672aefc4f5",
   "outputs": [],
   "execution_count": 21
  },
  {
   "metadata": {
    "ExecuteTime": {
     "end_time": "2024-12-02T12:09:37.286005Z",
     "start_time": "2024-12-02T12:09:37.282955Z"
    }
   },
   "cell_type": "code",
   "source": "percentages",
   "id": "b198ce1220449fdb",
   "outputs": [
    {
     "data": {
      "text/plain": [
       "[44.0, 17.0, 89.0, 83.0, 83.0, 89.0]"
      ]
     },
     "execution_count": 22,
     "metadata": {},
     "output_type": "execute_result"
    }
   ],
   "execution_count": 22
  },
  {
   "metadata": {
    "ExecuteTime": {
     "end_time": "2024-12-02T12:09:37.289669Z",
     "start_time": "2024-12-02T12:09:37.286941Z"
    }
   },
   "cell_type": "code",
   "source": "print(f\"Average Percentage for  Preference of Model Over Random Regarding Diversity: {round(mean(percentages),2)} +/- {round(stdev(percentages), 2)} \")",
   "id": "a30060d86eb149db",
   "outputs": [
    {
     "name": "stdout",
     "output_type": "stream",
     "text": [
      "Average Percentage for  Preference of Model Over Random Regarding Diversity: 67.5 +/- 30.02 \n"
     ]
    }
   ],
   "execution_count": 23
  },
  {
   "metadata": {
    "ExecuteTime": {
     "end_time": "2024-12-02T12:09:37.499080Z",
     "start_time": "2024-12-02T12:09:37.290609Z"
    }
   },
   "cell_type": "code",
   "source": [
    "plt.figure(figsize=(10, 6))\n",
    "\n",
    "plt.ylim(0, 120)\n",
    "plt.bar(question_ids, percentages, 0.5, label='Preference of Model Over Random Regarding Diversity')\n",
    "plt.xlabel('User Comment ID')\n",
    "plt.ylabel('Percentage')\n",
    "plt.legend()\n",
    "plt.savefig('figures/preference_of_model_over_random_regarding_diversity_per_question.pdf', format='pdf', dpi=500, bbox_inches='tight')\n",
    "plt.show()"
   ],
   "id": "73a21836a14611fd",
   "outputs": [
    {
     "data": {
      "text/plain": [
       "<Figure size 1000x600 with 1 Axes>"
      ],
      "image/png": "[encoded data removed]"
     },
     "metadata": {},
     "output_type": "display_data"
    }
   ],
   "execution_count": 24
  },
  {
   "metadata": {},
   "cell_type": "markdown",
   "source": "# Compute percentage of quality of recommendations for single comments and preference of model over random regarding diversity, separated by topic",
   "id": "6ef19df57ccd573f"
  },
  {
   "metadata": {
    "ExecuteTime": {
     "end_time": "2024-12-02T12:09:37.503045Z",
     "start_time": "2024-12-02T12:09:37.499970Z"
    }
   },
   "cell_type": "code",
   "source": [
    "def compute_percentage_for_model_comment_answer_for_question_per_topic(topic):\n",
    "    return round(len(comment_answers[\n",
    "                         (comment_answers['recommendation_method'].isin(['stance', 'sentiment', 'emotion', 'news-agency'])) & \n",
    "                         (comment_answers['good_recommendation']) & \n",
    "                         (comment_answers['keywords'].str.contains(topic, case=False))].index) /   len(comment_answers[ \n",
    "                                                                                                                       (comment_answers['recommendation_method'].isin(['stance', 'sentiment', 'emotion', 'news-agency'])) & \n",
    "                                                                                                                       (comment_answers['keywords'].str.contains(topic, case=False))].index), 2) * 100"
   ],
   "id": "7c3dc4299954ed87",
   "outputs": [],
   "execution_count": 25
  },
  {
   "metadata": {
    "ExecuteTime": {
     "end_time": "2024-12-02T12:09:37.514828Z",
     "start_time": "2024-12-02T12:09:37.503825Z"
    }
   },
   "cell_type": "code",
   "source": [
    "def compute_percentage_for_random_comment_answer_for_question_per_topic(topic):\n",
    "    return round(len(comment_answers[\n",
    "                         (~comment_answers['recommendation_method'].isin(['stance', 'sentiment', 'emotion', 'news-agency'])) & \n",
    "                         (comment_answers['good_recommendation']) & \n",
    "                         (comment_answers['keywords'].str.contains(topic, case=False))].index) /   len(comment_answers[ \n",
    "                                                                                                                       (~comment_answers['recommendation_method'].isin(['stance', 'sentiment', 'emotion', 'news-agency'])) & \n",
    "                                                                                                                       (comment_answers['keywords'].str.contains(topic, case=False))].index), 2) * 100"
   ],
   "id": "4e7148d44d54cdf9",
   "outputs": [],
   "execution_count": 26
  },
  {
   "metadata": {},
   "cell_type": "markdown",
   "source": "",
   "id": "e973154893da5aec"
  },
  {
   "metadata": {
    "ExecuteTime": {
     "end_time": "2024-12-02T12:09:37.526931Z",
     "start_time": "2024-12-02T12:09:37.515656Z"
    }
   },
   "cell_type": "code",
   "source": [
    "model_topic_percentages = {}\n",
    "for topic in [\"abortion\", \"trump\", \"global warming\"]:\n",
    "    model_topic_percentages[topic] = compute_percentage_for_model_comment_answer_for_question_per_topic(topic)\n"
   ],
   "id": "dfcf213331b1559e",
   "outputs": [],
   "execution_count": 27
  },
  {
   "metadata": {
    "ExecuteTime": {
     "end_time": "2024-12-02T12:09:37.533412Z",
     "start_time": "2024-12-02T12:09:37.530002Z"
    }
   },
   "cell_type": "code",
   "source": "model_topic_percentages",
   "id": "2ab75def9e8bc99d",
   "outputs": [
    {
     "data": {
      "text/plain": [
       "{'abortion': 69.0, 'trump': 56.00000000000001, 'global warming': 86.0}"
      ]
     },
     "execution_count": 28,
     "metadata": {},
     "output_type": "execute_result"
    }
   ],
   "execution_count": 28
  },
  {
   "metadata": {
    "ExecuteTime": {
     "end_time": "2024-12-02T12:09:37.543821Z",
     "start_time": "2024-12-02T12:09:37.534289Z"
    }
   },
   "cell_type": "code",
   "source": [
    "random_topic_percentages = {}\n",
    "for topic in [\"abortion\", \"trump\", \"global warming\"]:\n",
    "    random_topic_percentages[topic] = compute_percentage_for_random_comment_answer_for_question_per_topic(topic)"
   ],
   "id": "1913646d44ad332d",
   "outputs": [],
   "execution_count": 29
  },
  {
   "metadata": {
    "ExecuteTime": {
     "end_time": "2024-12-02T12:09:37.547458Z",
     "start_time": "2024-12-02T12:09:37.544635Z"
    }
   },
   "cell_type": "code",
   "source": "random_topic_percentages",
   "id": "19def04af186ce2e",
   "outputs": [
    {
     "data": {
      "text/plain": [
       "{'abortion': 48.0, 'trump': 30.0, 'global warming': 28.000000000000004}"
      ]
     },
     "execution_count": 30,
     "metadata": {},
     "output_type": "execute_result"
    }
   ],
   "execution_count": 30
  },
  {
   "metadata": {
    "ExecuteTime": {
     "end_time": "2024-12-02T12:09:37.551482Z",
     "start_time": "2024-12-02T12:09:37.548389Z"
    }
   },
   "cell_type": "code",
   "source": [
    "def compute_percentage_point_of_view_answer_for_question(topic):\n",
    "    return round(len(viewpoint_answers[(viewpoint_answers['keywords'].str.contains(topic, case=False) &\n",
    "                   (viewpoint_answers['recommendation_method'] == viewpoint_answers['selected_recommendation_method']))].index) / len(\n",
    "        viewpoint_answers[(viewpoint_answers['keywords'].str.contains(\"abortion\", case=False))].index), 2) * 100    "
   ],
   "id": "6282c461fd7e05e4",
   "outputs": [],
   "execution_count": 31
  },
  {
   "metadata": {
    "ExecuteTime": {
     "end_time": "2024-12-02T12:09:37.557660Z",
     "start_time": "2024-12-02T12:09:37.552241Z"
    }
   },
   "cell_type": "code",
   "source": [
    "viewpoint_answers_per_topic = {}\n",
    "for topic in [\"abortion\", \"trump\", \"global warming\"]:\n",
    "    viewpoint_answers_per_topic[topic] = compute_percentage_point_of_view_answer_for_question(topic)"
   ],
   "id": "e1acb9b7fa12f95c",
   "outputs": [],
   "execution_count": 32
  },
  {
   "metadata": {
    "ExecuteTime": {
     "end_time": "2024-12-02T12:09:37.561137Z",
     "start_time": "2024-12-02T12:09:37.558539Z"
    }
   },
   "cell_type": "code",
   "source": "viewpoint_answers_per_topic",
   "id": "48c1fed7f508ce35",
   "outputs": [
    {
     "data": {
      "text/plain": [
       "{'abortion': 50.0, 'trump': 64.0, 'global warming': 89.0}"
      ]
     },
     "execution_count": 33,
     "metadata": {},
     "output_type": "execute_result"
    }
   ],
   "execution_count": 33
  },
  {
   "metadata": {
    "ExecuteTime": {
     "end_time": "2024-12-02T12:09:37.782729Z",
     "start_time": "2024-12-02T12:09:37.561915Z"
    }
   },
   "cell_type": "code",
   "source": [
    "plt.figure(figsize=(10, 6))\n",
    "\n",
    "plt.ylim(0, 120)\n",
    "\n",
    "x = [\"abortion\", \"trump\", \"global warming\"]\n",
    "x_axis = np.arange(len(x))\n",
    "y_model = [model_topic_percentages[\"abortion\"], model_topic_percentages[\"trump\"], model_topic_percentages[\"global warming\"]]\n",
    "y_random = [random_topic_percentages[\"abortion\"], random_topic_percentages[\"trump\"], random_topic_percentages[\"global warming\"]]\n",
    "y_viewpoint = [viewpoint_answers_per_topic[\"abortion\"], viewpoint_answers_per_topic[\"trump\"], viewpoint_answers_per_topic[\"global warming\"]]\n",
    "\n",
    "plt.bar(x_axis -0.25, y_model, 0.2, label='Quality of Recommendations of Single Comments (Model)')\n",
    "plt.bar(x_axis, y_random, 0.2, label='Quality of Recommendations of Single Comments (Random)')\n",
    "plt.bar(x_axis + 0.25, y_viewpoint, 0.2, label='Preference of Model over Random Regarding Diversity')\n",
    "\n",
    "plt.xticks(x_axis, x)\n",
    "plt.xlabel(\"Topics\")\n",
    "plt.ylabel('Percentage')\n",
    "\n",
    "plt.legend()\n",
    "plt.savefig('figures/quality_of_recommendations_and_preference_diversity_per_topic.pdf', format='pdf', dpi=500, bbox_inches='tight')\n",
    "\n",
    "plt.show()"
   ],
   "id": "89091dcec1e89624",
   "outputs": [
    {
     "data": {
      "text/plain": [
       "<Figure size 1000x600 with 1 Axes>"
      ],
      "image/png": "[encoded data removed]"
     },
     "metadata": {},
     "output_type": "display_data"
    }
   ],
   "execution_count": 34
  },
  {
   "metadata": {},
   "cell_type": "markdown",
   "source": "# Compute percentage of quality of recommendations for single comments and preference of model over random regarding diversity, separated by news agency\n",
   "id": "c0a933e90e614cbc"
  },
  {
   "metadata": {
    "ExecuteTime": {
     "end_time": "2024-12-02T12:09:37.787110Z",
     "start_time": "2024-12-02T12:09:37.783458Z"
    }
   },
   "cell_type": "code",
   "source": [
    "def compute_percentage_for_model_comment_answer_per_news_agency(news_agency):\n",
    "    return round(len(comment_answers[\n",
    "                         (comment_answers['recommendation_method'].isin(['stance', 'sentiment', 'emotion', 'news-agency'])) & \n",
    "                         (comment_answers['good_recommendation']) & \n",
    "                         (comment_answers['news_agency'] == news_agency)].index) /   len(comment_answers[ \n",
    "                                                                                                                       (comment_answers['recommendation_method'].isin(['stance', 'sentiment', 'emotion', 'news-agency'])) & \n",
    "                                                                                                                       (comment_answers['news_agency'] == news_agency)].index), 2) * 100"
   ],
   "id": "40460da45a65032b",
   "outputs": [],
   "execution_count": 35
  },
  {
   "metadata": {
    "ExecuteTime": {
     "end_time": "2024-12-02T12:09:37.798940Z",
     "start_time": "2024-12-02T12:09:37.788069Z"
    }
   },
   "cell_type": "code",
   "source": [
    "def compute_percentage_for_random_comment_answer_per_news_agency(news_agency):\n",
    "    return round(len(comment_answers[\n",
    "                         (~comment_answers['recommendation_method'].isin(['stance', 'sentiment', 'emotion', 'news-agency'])) & \n",
    "                         (comment_answers['good_recommendation']) & \n",
    "                         (comment_answers['news_agency'] == news_agency)].index) /   len(comment_answers[ \n",
    "                                                                                                                       (~comment_answers['recommendation_method'].isin(['stance', 'sentiment', 'emotion', 'news-agency'])) & \n",
    "                                                                                                                       (comment_answers['news_agency'] == news_agency)].index), 2) * 100"
   ],
   "id": "bb794389879dde2e",
   "outputs": [],
   "execution_count": 36
  },
  {
   "metadata": {
    "ExecuteTime": {
     "end_time": "2024-12-02T12:09:37.803026Z",
     "start_time": "2024-12-02T12:09:37.799790Z"
    }
   },
   "cell_type": "code",
   "source": [
    "def compute_percentage_point_of_view_comment_answer_per_news_agency(news_agency):\n",
    "    return round(len(viewpoint_answers[(viewpoint_answers['news_agency'] == news_agency) &\n",
    "                   (viewpoint_answers['recommendation_method'] == viewpoint_answers['selected_recommendation_method'])].index) / len(\n",
    "        viewpoint_answers[(viewpoint_answers['news_agency'] == news_agency)].index), 2) * 100    "
   ],
   "id": "c1639f8bce9195cd",
   "outputs": [],
   "execution_count": 37
  },
  {
   "metadata": {
    "ExecuteTime": {
     "end_time": "2024-12-02T12:09:37.816117Z",
     "start_time": "2024-12-02T12:09:37.803914Z"
    }
   },
   "cell_type": "code",
   "source": [
    "news_agencies = [\"Breitbart\", \"NyTimes\"]\n",
    "model_news_agency_percentages = {}\n",
    "random_news_agency_percentages = {}\n",
    "viewpoint_news_agency_percentages = {}\n",
    "for news_agency in news_agencies:\n",
    "    model_news_agency_percentages[news_agency]  = compute_percentage_for_model_comment_answer_per_news_agency(news_agency)\n",
    "    random_news_agency_percentages[news_agency] = compute_percentage_for_random_comment_answer_per_news_agency(news_agency)\n",
    "    viewpoint_news_agency_percentages[news_agency] = compute_percentage_point_of_view_comment_answer_per_news_agency(news_agency)"
   ],
   "id": "c3417f203cbe32e5",
   "outputs": [],
   "execution_count": 38
  },
  {
   "metadata": {
    "ExecuteTime": {
     "end_time": "2024-12-02T12:09:37.820777Z",
     "start_time": "2024-12-02T12:09:37.817178Z"
    }
   },
   "cell_type": "code",
   "source": "model_news_agency_percentages",
   "id": "60f2f74c32318ac1",
   "outputs": [
    {
     "data": {
      "text/plain": [
       "{'Breitbart': 72.0, 'NyTimes': 69.0}"
      ]
     },
     "execution_count": 39,
     "metadata": {},
     "output_type": "execute_result"
    }
   ],
   "execution_count": 39
  },
  {
   "metadata": {
    "ExecuteTime": {
     "end_time": "2024-12-02T12:09:37.825378Z",
     "start_time": "2024-12-02T12:09:37.821769Z"
    }
   },
   "cell_type": "code",
   "source": "random_news_agency_percentages",
   "id": "3d2632a8e0935940",
   "outputs": [
    {
     "data": {
      "text/plain": [
       "{'Breitbart': 15.0, 'NyTimes': 56.00000000000001}"
      ]
     },
     "execution_count": 40,
     "metadata": {},
     "output_type": "execute_result"
    }
   ],
   "execution_count": 40
  },
  {
   "metadata": {
    "ExecuteTime": {
     "end_time": "2024-12-02T12:09:37.830282Z",
     "start_time": "2024-12-02T12:09:37.826619Z"
    }
   },
   "cell_type": "code",
   "source": "viewpoint_news_agency_percentages",
   "id": "80f5db48b5c505f2",
   "outputs": [
    {
     "data": {
      "text/plain": [
       "{'Breitbart': 85.0, 'NyTimes': 50.0}"
      ]
     },
     "execution_count": 41,
     "metadata": {},
     "output_type": "execute_result"
    }
   ],
   "execution_count": 41
  },
  {
   "metadata": {
    "ExecuteTime": {
     "end_time": "2024-12-02T12:09:38.058258Z",
     "start_time": "2024-12-02T12:09:37.831616Z"
    }
   },
   "cell_type": "code",
   "source": [
    "plt.figure(figsize=(10, 6))\n",
    "\n",
    "plt.ylim(0, 120)\n",
    "\n",
    "x = [\"Breitbart\", \"NyTimes\"]\n",
    "x_axis = np.arange(len(x))\n",
    "y_model = [model_news_agency_percentages[\"Breitbart\"], model_news_agency_percentages[\"NyTimes\"]]\n",
    "y_random = [random_news_agency_percentages[\"Breitbart\"], random_news_agency_percentages[\"NyTimes\"]]\n",
    "y_viewpoint = [viewpoint_news_agency_percentages[\"Breitbart\"], viewpoint_news_agency_percentages[\"NyTimes\"]]\n",
    "\n",
    "plt.bar(x_axis -0.25, y_model, 0.15, label='Quality of Recommendations of Single Comments (Model)')\n",
    "plt.bar(x_axis, y_random, 0.15, label='Quality of Recommendations of Single Comments (Random)')\n",
    "plt.bar(x_axis + 0.25, y_viewpoint, 0.15, label='Preference of Model over Random Regarding Diversity')\n",
    "\n",
    "plt.xticks(x_axis, x)\n",
    "plt.xlabel(\"News Agency\")\n",
    "plt.ylabel('Percentage')\n",
    "\n",
    "plt.legend()\n",
    "plt.savefig('figures/quality_of_recommendations_and_preference_diversity_per_news_agency.pdf', format='pdf', dpi=500, bbox_inches='tight')\n",
    "plt.show()"
   ],
   "id": "54849ad2f9d466d5",
   "outputs": [
    {
     "data": {
      "text/plain": [
       "<Figure size 1000x600 with 1 Axes>"
      ],
      "image/png": "[encoded data removed]"
     },
     "metadata": {},
     "output_type": "display_data"
    }
   ],
   "execution_count": 42
  },
  {
   "metadata": {},
   "cell_type": "markdown",
   "source": "# Compute percentage of preference of model over random regarding diversity for recommendation model based on stance, sentiment and emotion vs. news agency ",
   "id": "7d2ba688f8a62b63"
  },
  {
   "metadata": {
    "ExecuteTime": {
     "end_time": "2024-12-02T12:09:38.062872Z",
     "start_time": "2024-12-02T12:09:38.059577Z"
    }
   },
   "cell_type": "code",
   "source": [
    "def compute_percentage_point_of_view_comment_answer_model_vs_news_agency(approach):\n",
    "    return round(len(viewpoint_answers[(viewpoint_answers['recommendation_method'].isin(approach)) &\n",
    "                   (viewpoint_answers['recommendation_method'] == viewpoint_answers['selected_recommendation_method'])].index) / len(\n",
    "        viewpoint_answers[(viewpoint_answers['recommendation_method'].isin(approach))].index), 2) * 100    "
   ],
   "id": "29d9a1606fa5f447",
   "outputs": [],
   "execution_count": 43
  },
  {
   "metadata": {
    "ExecuteTime": {
     "end_time": "2024-12-02T12:09:38.077735Z",
     "start_time": "2024-12-02T12:09:38.064501Z"
    }
   },
   "cell_type": "code",
   "source": [
    "approaches = [[\"stance\", \"sentiment\", \"emotion\"], [\"news-agency\"]]\n",
    "\n",
    "model_approach_percentages = {\n",
    "    \"Stance, Sentiment, Emotion\": compute_percentage_point_of_view_comment_answer_model_vs_news_agency([\"stance\", \"sentiment\", \"emotion\"]),\n",
    "    \"News Agency\": compute_percentage_point_of_view_comment_answer_model_vs_news_agency([\"news-agency\"]),\n",
    "}"
   ],
   "id": "5066a045afcfa473",
   "outputs": [],
   "execution_count": 44
  },
  {
   "metadata": {
    "ExecuteTime": {
     "end_time": "2024-12-02T12:09:38.083034Z",
     "start_time": "2024-12-02T12:09:38.079048Z"
    }
   },
   "cell_type": "code",
   "source": "model_approach_percentages",
   "id": "6321574c33740ff5",
   "outputs": [
    {
     "data": {
      "text/plain": [
       "{'Stance, Sentiment, Emotion': 70.0, 'News Agency': 65.0}"
      ]
     },
     "execution_count": 45,
     "metadata": {},
     "output_type": "execute_result"
    }
   ],
   "execution_count": 45
  },
  {
   "metadata": {
    "ExecuteTime": {
     "end_time": "2024-12-02T12:09:38.285120Z",
     "start_time": "2024-12-02T12:09:38.086587Z"
    }
   },
   "cell_type": "code",
   "source": [
    "plt.figure(figsize=(10, 6))\n",
    "\n",
    "plt.ylim(0, 120)\n",
    "\n",
    "x = [\"Stance, Sentiment, Emotion\", \"News Agency\"]\n",
    "x_axis = np.arange(len(x))\n",
    "y_viewpoint = [model_approach_percentages[\"Stance, Sentiment, Emotion\"], model_approach_percentages[\"News Agency\"]]\n",
    "\n",
    "plt.bar(x_axis, y_viewpoint, 0.3, label='Preference of Model over Random Regarding Diversity')\n",
    "\n",
    "plt.xticks(x_axis, x)\n",
    "plt.xlabel(\"Approach\")\n",
    "plt.ylabel('Percentage')\n",
    "\n",
    "plt.legend()\n",
    "plt.savefig('figures/preference_of_model_over_random_regarding_diversity_stance_etc_vs_news_agency.pdf', format='pdf', dpi=500, bbox_inches='tight')\n",
    "plt.show()"
   ],
   "id": "85cd3d7fa7e98f6d",
   "outputs": [
    {
     "data": {
      "text/plain": [
       "<Figure size 1000x600 with 1 Axes>"
      ],
      "image/png": "[encoded data removed]"
     },
     "metadata": {},
     "output_type": "display_data"
    }
   ],
   "execution_count": 46
  },
  {
   "metadata": {},
   "cell_type": "markdown",
   "source": "# Comparision short vs. long comments ",
   "id": "81c1b86ec2558038"
  },
  {
   "metadata": {
    "ExecuteTime": {
     "end_time": "2024-12-02T12:09:38.297308Z",
     "start_time": "2024-12-02T12:09:38.286283Z"
    }
   },
   "cell_type": "code",
   "source": "comment_answers",
   "id": "cd930e6cfd07f914",
   "outputs": [
    {
     "data": {
      "text/plain": [
       "     Unnamed: 0  answer_id  participant_id  question_id news_agency  \\\n",
       "0             0          1               1            5   Breitbart   \n",
       "1             1          2               1            5   Breitbart   \n",
       "2             2          3               1            5   Breitbart   \n",
       "3             3          4               1            5   Breitbart   \n",
       "4             4          5               1            5   Breitbart   \n",
       "..          ...        ...             ...          ...         ...   \n",
       "481         481        482               4            1     NyTimes   \n",
       "482         482        483               4            1     NyTimes   \n",
       "483         483        484               4            2     NyTimes   \n",
       "484         484        485               4            2     NyTimes   \n",
       "485         485        486               4            2     NyTimes   \n",
       "\n",
       "                                              keywords  comment_selection_id  \\\n",
       "0    [Abortion,ACLU,Amendment,ballot initiatives,Ba...                    21   \n",
       "1    [Abortion,ACLU,Amendment,ballot initiatives,Ba...                    21   \n",
       "2    [Abortion,ACLU,Amendment,ballot initiatives,Ba...                    25   \n",
       "3    [Abortion,ACLU,Amendment,ballot initiatives,Ba...                    25   \n",
       "4    [Abortion,ACLU,Amendment,ballot initiatives,Ba...                    21   \n",
       "..                                                 ...                   ...   \n",
       "481  [United States Politics and Government, Trump ...                     3   \n",
       "482  [United States Politics and Government, Trump ...                     3   \n",
       "483  [Abortion, Birth Control and Family Planning, ...                     7   \n",
       "484  [Abortion, Birth Control and Family Planning, ...                     7   \n",
       "485  [Abortion, Birth Control and Family Planning, ...                     7   \n",
       "\n",
       "                                          comment_text recommendation_method  \\\n",
       "0            In your case yes, post partum. Like soon.                random   \n",
       "1    It died the minute Trump became the leader of ...                random   \n",
       "2    This decision is absolutely staggering in it's...           news-agency   \n",
       "3    The very opposite is true. Abortion is a moral...           news-agency   \n",
       "4    Yes, it appears to be \"losing\" as more and mor...                random   \n",
       "..                                                 ...                   ...   \n",
       "481  Anna North has it just right on the infinite l...             sentiment   \n",
       "482  Excellent article, well written and perceptive...             sentiment   \n",
       "483  If Medicare and Title X reimbursement were not...                stance   \n",
       "484  I suspect Trump has enabled a few abortions in...                stance   \n",
       "485  You're confused. A fetus does not have a right...                stance   \n",
       "\n",
       "     comment_id  good_recommendation  \n",
       "0            62                False  \n",
       "1            61                False  \n",
       "2            75                 True  \n",
       "3            74                 True  \n",
       "4            63                 True  \n",
       "..          ...                  ...  \n",
       "481           7                 True  \n",
       "482           9                False  \n",
       "483          19                False  \n",
       "484          20                False  \n",
       "485          21                 True  \n",
       "\n",
       "[486 rows x 11 columns]"
      ],
      "text/html": [
       "<div>\n",
       "<style scoped>\n",
       "    .dataframe tbody tr th:only-of-type {\n",
       "        vertical-align: middle;\n",
       "    }\n",
       "\n",
       "    .dataframe tbody tr th {\n",
       "        vertical-align: top;\n",
       "    }\n",
       "\n",
       "    .dataframe thead th {\n",
       "        text-align: right;\n",
       "    }\n",
       "</style>\n",
       "<table border=\"1\" class=\"dataframe\">\n",
       "  <thead>\n",
       "    <tr style=\"text-align: right;\">\n",
       "      <th></th>\n",
       "      <th>Unnamed: 0</th>\n",
       "      <th>answer_id</th>\n",
       "      <th>participant_id</th>\n",
       "      <th>question_id</th>\n",
       "      <th>news_agency</th>\n",
       "      <th>keywords</th>\n",
       "      <th>comment_selection_id</th>\n",
       "      <th>comment_text</th>\n",
       "      <th>recommendation_method</th>\n",
       "      <th>comment_id</th>\n",
       "      <th>good_recommendation</th>\n",
       "    </tr>\n",
       "  </thead>\n",
       "  <tbody>\n",
       "    <tr>\n",
       "      <th>0</th>\n",
       "      <td>0</td>\n",
       "      <td>1</td>\n",
       "      <td>1</td>\n",
       "      <td>5</td>\n",
       "      <td>Breitbart</td>\n",
       "      <td>[Abortion,ACLU,Amendment,ballot initiatives,Ba...</td>\n",
       "      <td>21</td>\n",
       "      <td>In your case yes, post partum. Like soon.</td>\n",
       "      <td>random</td>\n",
       "      <td>62</td>\n",
       "      <td>False</td>\n",
       "    </tr>\n",
       "    <tr>\n",
       "      <th>1</th>\n",
       "      <td>1</td>\n",
       "      <td>2</td>\n",
       "      <td>1</td>\n",
       "      <td>5</td>\n",
       "      <td>Breitbart</td>\n",
       "      <td>[Abortion,ACLU,Amendment,ballot initiatives,Ba...</td>\n",
       "      <td>21</td>\n",
       "      <td>It died the minute Trump became the leader of ...</td>\n",
       "      <td>random</td>\n",
       "      <td>61</td>\n",
       "      <td>False</td>\n",
       "    </tr>\n",
       "    <tr>\n",
       "      <th>2</th>\n",
       "      <td>2</td>\n",
       "      <td>3</td>\n",
       "      <td>1</td>\n",
       "      <td>5</td>\n",
       "      <td>Breitbart</td>\n",
       "      <td>[Abortion,ACLU,Amendment,ballot initiatives,Ba...</td>\n",
       "      <td>25</td>\n",
       "      <td>This decision is absolutely staggering in it's...</td>\n",
       "      <td>news-agency</td>\n",
       "      <td>75</td>\n",
       "      <td>True</td>\n",
       "    </tr>\n",
       "    <tr>\n",
       "      <th>3</th>\n",
       "      <td>3</td>\n",
       "      <td>4</td>\n",
       "      <td>1</td>\n",
       "      <td>5</td>\n",
       "      <td>Breitbart</td>\n",
       "      <td>[Abortion,ACLU,Amendment,ballot initiatives,Ba...</td>\n",
       "      <td>25</td>\n",
       "      <td>The very opposite is true. Abortion is a moral...</td>\n",
       "      <td>news-agency</td>\n",
       "      <td>74</td>\n",
       "      <td>True</td>\n",
       "    </tr>\n",
       "    <tr>\n",
       "      <th>4</th>\n",
       "      <td>4</td>\n",
       "      <td>5</td>\n",
       "      <td>1</td>\n",
       "      <td>5</td>\n",
       "      <td>Breitbart</td>\n",
       "      <td>[Abortion,ACLU,Amendment,ballot initiatives,Ba...</td>\n",
       "      <td>21</td>\n",
       "      <td>Yes, it appears to be \"losing\" as more and mor...</td>\n",
       "      <td>random</td>\n",
       "      <td>63</td>\n",
       "      <td>True</td>\n",
       "    </tr>\n",
       "    <tr>\n",
       "      <th>...</th>\n",
       "      <td>...</td>\n",
       "      <td>...</td>\n",
       "      <td>...</td>\n",
       "      <td>...</td>\n",
       "      <td>...</td>\n",
       "      <td>...</td>\n",
       "      <td>...</td>\n",
       "      <td>...</td>\n",
       "      <td>...</td>\n",
       "      <td>...</td>\n",
       "      <td>...</td>\n",
       "    </tr>\n",
       "    <tr>\n",
       "      <th>481</th>\n",
       "      <td>481</td>\n",
       "      <td>482</td>\n",
       "      <td>4</td>\n",
       "      <td>1</td>\n",
       "      <td>NyTimes</td>\n",
       "      <td>[United States Politics and Government, Trump ...</td>\n",
       "      <td>3</td>\n",
       "      <td>Anna North has it just right on the infinite l...</td>\n",
       "      <td>sentiment</td>\n",
       "      <td>7</td>\n",
       "      <td>True</td>\n",
       "    </tr>\n",
       "    <tr>\n",
       "      <th>482</th>\n",
       "      <td>482</td>\n",
       "      <td>483</td>\n",
       "      <td>4</td>\n",
       "      <td>1</td>\n",
       "      <td>NyTimes</td>\n",
       "      <td>[United States Politics and Government, Trump ...</td>\n",
       "      <td>3</td>\n",
       "      <td>Excellent article, well written and perceptive...</td>\n",
       "      <td>sentiment</td>\n",
       "      <td>9</td>\n",
       "      <td>False</td>\n",
       "    </tr>\n",
       "    <tr>\n",
       "      <th>483</th>\n",
       "      <td>483</td>\n",
       "      <td>484</td>\n",
       "      <td>4</td>\n",
       "      <td>2</td>\n",
       "      <td>NyTimes</td>\n",
       "      <td>[Abortion, Birth Control and Family Planning, ...</td>\n",
       "      <td>7</td>\n",
       "      <td>If Medicare and Title X reimbursement were not...</td>\n",
       "      <td>stance</td>\n",
       "      <td>19</td>\n",
       "      <td>False</td>\n",
       "    </tr>\n",
       "    <tr>\n",
       "      <th>484</th>\n",
       "      <td>484</td>\n",
       "      <td>485</td>\n",
       "      <td>4</td>\n",
       "      <td>2</td>\n",
       "      <td>NyTimes</td>\n",
       "      <td>[Abortion, Birth Control and Family Planning, ...</td>\n",
       "      <td>7</td>\n",
       "      <td>I suspect Trump has enabled a few abortions in...</td>\n",
       "      <td>stance</td>\n",
       "      <td>20</td>\n",
       "      <td>False</td>\n",
       "    </tr>\n",
       "    <tr>\n",
       "      <th>485</th>\n",
       "      <td>485</td>\n",
       "      <td>486</td>\n",
       "      <td>4</td>\n",
       "      <td>2</td>\n",
       "      <td>NyTimes</td>\n",
       "      <td>[Abortion, Birth Control and Family Planning, ...</td>\n",
       "      <td>7</td>\n",
       "      <td>You're confused. A fetus does not have a right...</td>\n",
       "      <td>stance</td>\n",
       "      <td>21</td>\n",
       "      <td>True</td>\n",
       "    </tr>\n",
       "  </tbody>\n",
       "</table>\n",
       "<p>486 rows × 11 columns</p>\n",
       "</div>"
      ]
     },
     "execution_count": 47,
     "metadata": {},
     "output_type": "execute_result"
    }
   ],
   "execution_count": 47
  },
  {
   "metadata": {
    "ExecuteTime": {
     "end_time": "2024-12-02T12:09:38.309577Z",
     "start_time": "2024-12-02T12:09:38.300913Z"
    }
   },
   "cell_type": "code",
   "source": [
    "short_recommendations  = comment_answers[comment_answers['comment_text'].apply(lambda row: len(row) < 200)]\n",
    "long_recommendations  = comment_answers[comment_answers['comment_text'].apply(lambda row: len(row) >= 200)]\n"
   ],
   "id": "275862fc06234c7b",
   "outputs": [],
   "execution_count": 48
  },
  {
   "metadata": {
    "ExecuteTime": {
     "end_time": "2024-12-02T12:09:38.325139Z",
     "start_time": "2024-12-02T12:09:38.310830Z"
    }
   },
   "cell_type": "code",
   "source": "short_recommendations",
   "id": "52304a9119c53d72",
   "outputs": [
    {
     "data": {
      "text/plain": [
       "     Unnamed: 0  answer_id  participant_id  question_id news_agency  \\\n",
       "0             0          1               1            5   Breitbart   \n",
       "1             1          2               1            5   Breitbart   \n",
       "14           14         15               1            3     NyTimes   \n",
       "21           21         22               1            6   Breitbart   \n",
       "22           22         23               1            6   Breitbart   \n",
       "..          ...        ...             ...          ...         ...   \n",
       "460         460        461               4            6   Breitbart   \n",
       "461         461        462               4            6   Breitbart   \n",
       "463         463        464               4            6   Breitbart   \n",
       "465         465        466               4            3     NyTimes   \n",
       "472         472        473               4            4   Breitbart   \n",
       "\n",
       "                                              keywords  comment_selection_id  \\\n",
       "0    [Abortion,ACLU,Amendment,ballot initiatives,Ba...                    21   \n",
       "1    [Abortion,ACLU,Amendment,ballot initiatives,Ba...                    21   \n",
       "14   [Greenhouse Gas Emissions, Global Warming, Agr...                    11   \n",
       "21   [climate alarmism,Climate Change,Global Warmin...                    30   \n",
       "22   [climate alarmism,Climate Change,Global Warmin...                    26   \n",
       "..                                                 ...                   ...   \n",
       "460  [climate alarmism,Climate Change,Global Warmin...                    26   \n",
       "461  [climate alarmism,Climate Change,Global Warmin...                    26   \n",
       "463  [climate alarmism,Climate Change,Global Warmin...                    30   \n",
       "465  [Greenhouse Gas Emissions, Global Warming, Agr...                    11   \n",
       "472  [Donald Trump,globalism,Globalists,Iowa,Nikki ...                    18   \n",
       "\n",
       "                                          comment_text recommendation_method  \\\n",
       "0            In your case yes, post partum. Like soon.                random   \n",
       "1    It died the minute Trump became the leader of ...                random   \n",
       "14   Ironically, many northern lands, where ghg are...                random   \n",
       "21   That is extremely ignorant. Climate change and...           news-agency   \n",
       "22                    There fixed the headline for ya.                random   \n",
       "..                                                 ...                   ...   \n",
       "460                   There fixed the headline for ya.                random   \n",
       "461  Lancet at its best was always a kinda, sorta s...                random   \n",
       "463  That is extremely ignorant. Climate change and...           news-agency   \n",
       "465  Ironically, many northern lands, where ghg are...                random   \n",
       "472  One thing about Donald Trump is that \"he is wh...             sentiment   \n",
       "\n",
       "     comment_id  good_recommendation  \n",
       "0            62                False  \n",
       "1            61                False  \n",
       "14           31                False  \n",
       "21           88                False  \n",
       "22           77                False  \n",
       "..          ...                  ...  \n",
       "460          77                False  \n",
       "461          78                False  \n",
       "463          88                 True  \n",
       "465          31                 True  \n",
       "472          52                 True  \n",
       "\n",
       "[122 rows x 11 columns]"
      ],
      "text/html": [
       "<div>\n",
       "<style scoped>\n",
       "    .dataframe tbody tr th:only-of-type {\n",
       "        vertical-align: middle;\n",
       "    }\n",
       "\n",
       "    .dataframe tbody tr th {\n",
       "        vertical-align: top;\n",
       "    }\n",
       "\n",
       "    .dataframe thead th {\n",
       "        text-align: right;\n",
       "    }\n",
       "</style>\n",
       "<table border=\"1\" class=\"dataframe\">\n",
       "  <thead>\n",
       "    <tr style=\"text-align: right;\">\n",
       "      <th></th>\n",
       "      <th>Unnamed: 0</th>\n",
       "      <th>answer_id</th>\n",
       "      <th>participant_id</th>\n",
       "      <th>question_id</th>\n",
       "      <th>news_agency</th>\n",
       "      <th>keywords</th>\n",
       "      <th>comment_selection_id</th>\n",
       "      <th>comment_text</th>\n",
       "      <th>recommendation_method</th>\n",
       "      <th>comment_id</th>\n",
       "      <th>good_recommendation</th>\n",
       "    </tr>\n",
       "  </thead>\n",
       "  <tbody>\n",
       "    <tr>\n",
       "      <th>0</th>\n",
       "      <td>0</td>\n",
       "      <td>1</td>\n",
       "      <td>1</td>\n",
       "      <td>5</td>\n",
       "      <td>Breitbart</td>\n",
       "      <td>[Abortion,ACLU,Amendment,ballot initiatives,Ba...</td>\n",
       "      <td>21</td>\n",
       "      <td>In your case yes, post partum. Like soon.</td>\n",
       "      <td>random</td>\n",
       "      <td>62</td>\n",
       "      <td>False</td>\n",
       "    </tr>\n",
       "    <tr>\n",
       "      <th>1</th>\n",
       "      <td>1</td>\n",
       "      <td>2</td>\n",
       "      <td>1</td>\n",
       "      <td>5</td>\n",
       "      <td>Breitbart</td>\n",
       "      <td>[Abortion,ACLU,Amendment,ballot initiatives,Ba...</td>\n",
       "      <td>21</td>\n",
       "      <td>It died the minute Trump became the leader of ...</td>\n",
       "      <td>random</td>\n",
       "      <td>61</td>\n",
       "      <td>False</td>\n",
       "    </tr>\n",
       "    <tr>\n",
       "      <th>14</th>\n",
       "      <td>14</td>\n",
       "      <td>15</td>\n",
       "      <td>1</td>\n",
       "      <td>3</td>\n",
       "      <td>NyTimes</td>\n",
       "      <td>[Greenhouse Gas Emissions, Global Warming, Agr...</td>\n",
       "      <td>11</td>\n",
       "      <td>Ironically, many northern lands, where ghg are...</td>\n",
       "      <td>random</td>\n",
       "      <td>31</td>\n",
       "      <td>False</td>\n",
       "    </tr>\n",
       "    <tr>\n",
       "      <th>21</th>\n",
       "      <td>21</td>\n",
       "      <td>22</td>\n",
       "      <td>1</td>\n",
       "      <td>6</td>\n",
       "      <td>Breitbart</td>\n",
       "      <td>[climate alarmism,Climate Change,Global Warmin...</td>\n",
       "      <td>30</td>\n",
       "      <td>That is extremely ignorant. Climate change and...</td>\n",
       "      <td>news-agency</td>\n",
       "      <td>88</td>\n",
       "      <td>False</td>\n",
       "    </tr>\n",
       "    <tr>\n",
       "      <th>22</th>\n",
       "      <td>22</td>\n",
       "      <td>23</td>\n",
       "      <td>1</td>\n",
       "      <td>6</td>\n",
       "      <td>Breitbart</td>\n",
       "      <td>[climate alarmism,Climate Change,Global Warmin...</td>\n",
       "      <td>26</td>\n",
       "      <td>There fixed the headline for ya.</td>\n",
       "      <td>random</td>\n",
       "      <td>77</td>\n",
       "      <td>False</td>\n",
       "    </tr>\n",
       "    <tr>\n",
       "      <th>...</th>\n",
       "      <td>...</td>\n",
       "      <td>...</td>\n",
       "      <td>...</td>\n",
       "      <td>...</td>\n",
       "      <td>...</td>\n",
       "      <td>...</td>\n",
       "      <td>...</td>\n",
       "      <td>...</td>\n",
       "      <td>...</td>\n",
       "      <td>...</td>\n",
       "      <td>...</td>\n",
       "    </tr>\n",
       "    <tr>\n",
       "      <th>460</th>\n",
       "      <td>460</td>\n",
       "      <td>461</td>\n",
       "      <td>4</td>\n",
       "      <td>6</td>\n",
       "      <td>Breitbart</td>\n",
       "      <td>[climate alarmism,Climate Change,Global Warmin...</td>\n",
       "      <td>26</td>\n",
       "      <td>There fixed the headline for ya.</td>\n",
       "      <td>random</td>\n",
       "      <td>77</td>\n",
       "      <td>False</td>\n",
       "    </tr>\n",
       "    <tr>\n",
       "      <th>461</th>\n",
       "      <td>461</td>\n",
       "      <td>462</td>\n",
       "      <td>4</td>\n",
       "      <td>6</td>\n",
       "      <td>Breitbart</td>\n",
       "      <td>[climate alarmism,Climate Change,Global Warmin...</td>\n",
       "      <td>26</td>\n",
       "      <td>Lancet at its best was always a kinda, sorta s...</td>\n",
       "      <td>random</td>\n",
       "      <td>78</td>\n",
       "      <td>False</td>\n",
       "    </tr>\n",
       "    <tr>\n",
       "      <th>463</th>\n",
       "      <td>463</td>\n",
       "      <td>464</td>\n",
       "      <td>4</td>\n",
       "      <td>6</td>\n",
       "      <td>Breitbart</td>\n",
       "      <td>[climate alarmism,Climate Change,Global Warmin...</td>\n",
       "      <td>30</td>\n",
       "      <td>That is extremely ignorant. Climate change and...</td>\n",
       "      <td>news-agency</td>\n",
       "      <td>88</td>\n",
       "      <td>True</td>\n",
       "    </tr>\n",
       "    <tr>\n",
       "      <th>465</th>\n",
       "      <td>465</td>\n",
       "      <td>466</td>\n",
       "      <td>4</td>\n",
       "      <td>3</td>\n",
       "      <td>NyTimes</td>\n",
       "      <td>[Greenhouse Gas Emissions, Global Warming, Agr...</td>\n",
       "      <td>11</td>\n",
       "      <td>Ironically, many northern lands, where ghg are...</td>\n",
       "      <td>random</td>\n",
       "      <td>31</td>\n",
       "      <td>True</td>\n",
       "    </tr>\n",
       "    <tr>\n",
       "      <th>472</th>\n",
       "      <td>472</td>\n",
       "      <td>473</td>\n",
       "      <td>4</td>\n",
       "      <td>4</td>\n",
       "      <td>Breitbart</td>\n",
       "      <td>[Donald Trump,globalism,Globalists,Iowa,Nikki ...</td>\n",
       "      <td>18</td>\n",
       "      <td>One thing about Donald Trump is that \"he is wh...</td>\n",
       "      <td>sentiment</td>\n",
       "      <td>52</td>\n",
       "      <td>True</td>\n",
       "    </tr>\n",
       "  </tbody>\n",
       "</table>\n",
       "<p>122 rows × 11 columns</p>\n",
       "</div>"
      ]
     },
     "execution_count": 49,
     "metadata": {},
     "output_type": "execute_result"
    }
   ],
   "execution_count": 49
  },
  {
   "metadata": {
    "ExecuteTime": {
     "end_time": "2024-12-02T12:09:38.339996Z",
     "start_time": "2024-12-02T12:09:38.326628Z"
    }
   },
   "cell_type": "code",
   "source": "long_recommendations",
   "id": "c4728eee611c362d",
   "outputs": [
    {
     "data": {
      "text/plain": [
       "     Unnamed: 0  answer_id  participant_id  question_id news_agency  \\\n",
       "2             2          3               1            5   Breitbart   \n",
       "3             3          4               1            5   Breitbart   \n",
       "4             4          5               1            5   Breitbart   \n",
       "5             5          6               1            5   Breitbart   \n",
       "6             6          7               1            2     NyTimes   \n",
       "..          ...        ...             ...          ...         ...   \n",
       "481         481        482               4            1     NyTimes   \n",
       "482         482        483               4            1     NyTimes   \n",
       "483         483        484               4            2     NyTimes   \n",
       "484         484        485               4            2     NyTimes   \n",
       "485         485        486               4            2     NyTimes   \n",
       "\n",
       "                                              keywords  comment_selection_id  \\\n",
       "2    [Abortion,ACLU,Amendment,ballot initiatives,Ba...                    25   \n",
       "3    [Abortion,ACLU,Amendment,ballot initiatives,Ba...                    25   \n",
       "4    [Abortion,ACLU,Amendment,ballot initiatives,Ba...                    21   \n",
       "5    [Abortion,ACLU,Amendment,ballot initiatives,Ba...                    25   \n",
       "6    [Abortion, Birth Control and Family Planning, ...                     9   \n",
       "..                                                 ...                   ...   \n",
       "481  [United States Politics and Government, Trump ...                     3   \n",
       "482  [United States Politics and Government, Trump ...                     3   \n",
       "483  [Abortion, Birth Control and Family Planning, ...                     7   \n",
       "484  [Abortion, Birth Control and Family Planning, ...                     7   \n",
       "485  [Abortion, Birth Control and Family Planning, ...                     7   \n",
       "\n",
       "                                          comment_text recommendation_method  \\\n",
       "2    This decision is absolutely staggering in it's...           news-agency   \n",
       "3    The very opposite is true. Abortion is a moral...           news-agency   \n",
       "4    Yes, it appears to be \"losing\" as more and mor...                random   \n",
       "5    Ah . . . so that case in Texas WASNT about the...           news-agency   \n",
       "6    Support for abortion in the US is decreasing b...               emotion   \n",
       "..                                                 ...                   ...   \n",
       "481  Anna North has it just right on the infinite l...             sentiment   \n",
       "482  Excellent article, well written and perceptive...             sentiment   \n",
       "483  If Medicare and Title X reimbursement were not...                stance   \n",
       "484  I suspect Trump has enabled a few abortions in...                stance   \n",
       "485  You're confused. A fetus does not have a right...                stance   \n",
       "\n",
       "     comment_id  good_recommendation  \n",
       "2            75                 True  \n",
       "3            74                 True  \n",
       "4            63                 True  \n",
       "5            73                 True  \n",
       "6            26                 True  \n",
       "..          ...                  ...  \n",
       "481           7                 True  \n",
       "482           9                False  \n",
       "483          19                False  \n",
       "484          20                False  \n",
       "485          21                 True  \n",
       "\n",
       "[364 rows x 11 columns]"
      ],
      "text/html": [
       "<div>\n",
       "<style scoped>\n",
       "    .dataframe tbody tr th:only-of-type {\n",
       "        vertical-align: middle;\n",
       "    }\n",
       "\n",
       "    .dataframe tbody tr th {\n",
       "        vertical-align: top;\n",
       "    }\n",
       "\n",
       "    .dataframe thead th {\n",
       "        text-align: right;\n",
       "    }\n",
       "</style>\n",
       "<table border=\"1\" class=\"dataframe\">\n",
       "  <thead>\n",
       "    <tr style=\"text-align: right;\">\n",
       "      <th></th>\n",
       "      <th>Unnamed: 0</th>\n",
       "      <th>answer_id</th>\n",
       "      <th>participant_id</th>\n",
       "      <th>question_id</th>\n",
       "      <th>news_agency</th>\n",
       "      <th>keywords</th>\n",
       "      <th>comment_selection_id</th>\n",
       "      <th>comment_text</th>\n",
       "      <th>recommendation_method</th>\n",
       "      <th>comment_id</th>\n",
       "      <th>good_recommendation</th>\n",
       "    </tr>\n",
       "  </thead>\n",
       "  <tbody>\n",
       "    <tr>\n",
       "      <th>2</th>\n",
       "      <td>2</td>\n",
       "      <td>3</td>\n",
       "      <td>1</td>\n",
       "      <td>5</td>\n",
       "      <td>Breitbart</td>\n",
       "      <td>[Abortion,ACLU,Amendment,ballot initiatives,Ba...</td>\n",
       "      <td>25</td>\n",
       "      <td>This decision is absolutely staggering in it's...</td>\n",
       "      <td>news-agency</td>\n",
       "      <td>75</td>\n",
       "      <td>True</td>\n",
       "    </tr>\n",
       "    <tr>\n",
       "      <th>3</th>\n",
       "      <td>3</td>\n",
       "      <td>4</td>\n",
       "      <td>1</td>\n",
       "      <td>5</td>\n",
       "      <td>Breitbart</td>\n",
       "      <td>[Abortion,ACLU,Amendment,ballot initiatives,Ba...</td>\n",
       "      <td>25</td>\n",
       "      <td>The very opposite is true. Abortion is a moral...</td>\n",
       "      <td>news-agency</td>\n",
       "      <td>74</td>\n",
       "      <td>True</td>\n",
       "    </tr>\n",
       "    <tr>\n",
       "      <th>4</th>\n",
       "      <td>4</td>\n",
       "      <td>5</td>\n",
       "      <td>1</td>\n",
       "      <td>5</td>\n",
       "      <td>Breitbart</td>\n",
       "      <td>[Abortion,ACLU,Amendment,ballot initiatives,Ba...</td>\n",
       "      <td>21</td>\n",
       "      <td>Yes, it appears to be \"losing\" as more and mor...</td>\n",
       "      <td>random</td>\n",
       "      <td>63</td>\n",
       "      <td>True</td>\n",
       "    </tr>\n",
       "    <tr>\n",
       "      <th>5</th>\n",
       "      <td>5</td>\n",
       "      <td>6</td>\n",
       "      <td>1</td>\n",
       "      <td>5</td>\n",
       "      <td>Breitbart</td>\n",
       "      <td>[Abortion,ACLU,Amendment,ballot initiatives,Ba...</td>\n",
       "      <td>25</td>\n",
       "      <td>Ah . . . so that case in Texas WASNT about the...</td>\n",
       "      <td>news-agency</td>\n",
       "      <td>73</td>\n",
       "      <td>True</td>\n",
       "    </tr>\n",
       "    <tr>\n",
       "      <th>6</th>\n",
       "      <td>6</td>\n",
       "      <td>7</td>\n",
       "      <td>1</td>\n",
       "      <td>2</td>\n",
       "      <td>NyTimes</td>\n",
       "      <td>[Abortion, Birth Control and Family Planning, ...</td>\n",
       "      <td>9</td>\n",
       "      <td>Support for abortion in the US is decreasing b...</td>\n",
       "      <td>emotion</td>\n",
       "      <td>26</td>\n",
       "      <td>True</td>\n",
       "    </tr>\n",
       "    <tr>\n",
       "      <th>...</th>\n",
       "      <td>...</td>\n",
       "      <td>...</td>\n",
       "      <td>...</td>\n",
       "      <td>...</td>\n",
       "      <td>...</td>\n",
       "      <td>...</td>\n",
       "      <td>...</td>\n",
       "      <td>...</td>\n",
       "      <td>...</td>\n",
       "      <td>...</td>\n",
       "      <td>...</td>\n",
       "    </tr>\n",
       "    <tr>\n",
       "      <th>481</th>\n",
       "      <td>481</td>\n",
       "      <td>482</td>\n",
       "      <td>4</td>\n",
       "      <td>1</td>\n",
       "      <td>NyTimes</td>\n",
       "      <td>[United States Politics and Government, Trump ...</td>\n",
       "      <td>3</td>\n",
       "      <td>Anna North has it just right on the infinite l...</td>\n",
       "      <td>sentiment</td>\n",
       "      <td>7</td>\n",
       "      <td>True</td>\n",
       "    </tr>\n",
       "    <tr>\n",
       "      <th>482</th>\n",
       "      <td>482</td>\n",
       "      <td>483</td>\n",
       "      <td>4</td>\n",
       "      <td>1</td>\n",
       "      <td>NyTimes</td>\n",
       "      <td>[United States Politics and Government, Trump ...</td>\n",
       "      <td>3</td>\n",
       "      <td>Excellent article, well written and perceptive...</td>\n",
       "      <td>sentiment</td>\n",
       "      <td>9</td>\n",
       "      <td>False</td>\n",
       "    </tr>\n",
       "    <tr>\n",
       "      <th>483</th>\n",
       "      <td>483</td>\n",
       "      <td>484</td>\n",
       "      <td>4</td>\n",
       "      <td>2</td>\n",
       "      <td>NyTimes</td>\n",
       "      <td>[Abortion, Birth Control and Family Planning, ...</td>\n",
       "      <td>7</td>\n",
       "      <td>If Medicare and Title X reimbursement were not...</td>\n",
       "      <td>stance</td>\n",
       "      <td>19</td>\n",
       "      <td>False</td>\n",
       "    </tr>\n",
       "    <tr>\n",
       "      <th>484</th>\n",
       "      <td>484</td>\n",
       "      <td>485</td>\n",
       "      <td>4</td>\n",
       "      <td>2</td>\n",
       "      <td>NyTimes</td>\n",
       "      <td>[Abortion, Birth Control and Family Planning, ...</td>\n",
       "      <td>7</td>\n",
       "      <td>I suspect Trump has enabled a few abortions in...</td>\n",
       "      <td>stance</td>\n",
       "      <td>20</td>\n",
       "      <td>False</td>\n",
       "    </tr>\n",
       "    <tr>\n",
       "      <th>485</th>\n",
       "      <td>485</td>\n",
       "      <td>486</td>\n",
       "      <td>4</td>\n",
       "      <td>2</td>\n",
       "      <td>NyTimes</td>\n",
       "      <td>[Abortion, Birth Control and Family Planning, ...</td>\n",
       "      <td>7</td>\n",
       "      <td>You're confused. A fetus does not have a right...</td>\n",
       "      <td>stance</td>\n",
       "      <td>21</td>\n",
       "      <td>True</td>\n",
       "    </tr>\n",
       "  </tbody>\n",
       "</table>\n",
       "<p>364 rows × 11 columns</p>\n",
       "</div>"
      ]
     },
     "execution_count": 50,
     "metadata": {},
     "output_type": "execute_result"
    }
   ],
   "execution_count": 50
  },
  {
   "metadata": {
    "ExecuteTime": {
     "end_time": "2024-12-02T12:09:38.344523Z",
     "start_time": "2024-12-02T12:09:38.341533Z"
    }
   },
   "cell_type": "code",
   "source": "print(f\"Check that length of short recommendations + long recommendations is equal to length of comment_answers: {len(comment_answers) == (len(short_recommendations) + len(long_recommendations))}\") ",
   "id": "3b6b42e870bf4ca8",
   "outputs": [
    {
     "name": "stdout",
     "output_type": "stream",
     "text": [
      "Check that length of short recommendations + long recommendations is equal to length of comment_answers: True\n"
     ]
    }
   ],
   "execution_count": 51
  },
  {
   "metadata": {},
   "cell_type": "markdown",
   "source": "## Good Recommendation for Short Comment",
   "id": "ba895ac3774ce561"
  },
  {
   "metadata": {
    "ExecuteTime": {
     "end_time": "2024-12-02T12:09:38.356885Z",
     "start_time": "2024-12-02T12:09:38.345758Z"
    }
   },
   "cell_type": "code",
   "source": [
    "good_recommendation_short_comments_model = round(len(comment_answers[\n",
    "                         (comment_answers['recommendation_method'].isin(['stance', 'sentiment', 'emotion', 'news-agency'])) & \n",
    "                         (comment_answers['good_recommendation']) &\n",
    "                         (comment_answers['comment_text'].apply(lambda row: len(row) < 200))].index) /   len(comment_answers[ \n",
    "                                                                                                                       (comment_answers['recommendation_method'].isin(['stance', 'sentiment', 'emotion', 'news-agency'])) &\n",
    "                                                                                                             comment_answers['comment_text'].apply(lambda row: len(row) < 200)].index), 2) * 100\n",
    "good_recommendation_short_comments_random = round(len(comment_answers[\n",
    "                         (~comment_answers['recommendation_method'].isin(['stance', 'sentiment', 'emotion', 'news-agency'])) & \n",
    "                         (comment_answers['good_recommendation']) &\n",
    "                         (comment_answers['comment_text'].apply(lambda row: len(row) < 200))].index) /   len(comment_answers[ \n",
    "                                                                                                                       (~comment_answers['recommendation_method'].isin(['stance', 'sentiment', 'emotion', 'news-agency'])) &\n",
    "                                                                                                             comment_answers['comment_text'].apply(lambda row: len(row) < 200)].index), 2) * 100\n",
    "\n",
    "print(f\"{good_recommendation_short_comments_model}% of the short recommendations by the model are perceived as a good recommendation\")\n",
    "print(f\"{good_recommendation_short_comments_random}% of the short recommendations by random are perceived as a good recommendation\")"
   ],
   "id": "6a8dd0b1a440cf07",
   "outputs": [
    {
     "name": "stdout",
     "output_type": "stream",
     "text": [
      "59.0% of the short recommendations by the model are perceived as a good recommendation\n",
      "13.0% of the short recommendations by random are perceived as a good recommendation\n"
     ]
    }
   ],
   "execution_count": 52
  },
  {
   "metadata": {},
   "cell_type": "markdown",
   "source": "## Good Recommendation for Long Comment for Model",
   "id": "8ff2c3abd70ea290"
  },
  {
   "metadata": {
    "ExecuteTime": {
     "end_time": "2024-12-02T12:09:38.369136Z",
     "start_time": "2024-12-02T12:09:38.358558Z"
    }
   },
   "cell_type": "code",
   "source": [
    "good_recommendation_long_comments_model = round(len(comment_answers[\n",
    "                         (comment_answers['recommendation_method'].isin(['stance', 'sentiment', 'emotion', 'news-agency'])) & \n",
    "                         (comment_answers['good_recommendation']) &\n",
    "                         (comment_answers['comment_text'].apply(lambda row: len(row) >= 200))].index) /   len(comment_answers[ \n",
    "                                                                                                                       (comment_answers['recommendation_method'].isin(['stance', 'sentiment', 'emotion', 'news-agency'])) &\n",
    "                                                                                                             comment_answers['comment_text'].apply(lambda row: len(row) >= 200)].index), 2) * 100\n",
    "\n",
    "\n",
    "good_recommendation_long_comments_random = round(len(comment_answers[\n",
    "                         (~comment_answers['recommendation_method'].isin(['stance', 'sentiment', 'emotion', 'news-agency'])) & \n",
    "                         (comment_answers['good_recommendation']) &\n",
    "                         (comment_answers['comment_text'].apply(lambda row: len(row) >= 200))].index) /   len(comment_answers[ \n",
    "                                                                                                                       ( ~comment_answers['recommendation_method'].isin(['stance', 'sentiment', 'emotion', 'news-agency'])) &\n",
    "                                                                                                             comment_answers['comment_text'].apply(lambda row: len(row) >= 200)].index), 2) * 100\n",
    "\n",
    "print(f\"{good_recommendation_long_comments_model}% of the long recommendations by the model are perceived as a good recommendation\")\n",
    "print(f\"{good_recommendation_long_comments_random}% of the long recommendations by random are perceived as a good recommendation\")"
   ],
   "id": "9e210ff921ca4524",
   "outputs": [
    {
     "name": "stdout",
     "output_type": "stream",
     "text": [
      "72.0% of the long recommendations by the model are perceived as a good recommendation\n",
      "62.0% of the long recommendations by random are perceived as a good recommendation\n"
     ]
    }
   ],
   "execution_count": 53
  },
  {
   "metadata": {
    "ExecuteTime": {
     "end_time": "2024-12-02T12:09:38.631104Z",
     "start_time": "2024-12-02T12:09:38.370250Z"
    }
   },
   "cell_type": "code",
   "source": [
    "plt.figure(figsize=(10, 6))\n",
    "\n",
    "plt.ylim(0, 120)\n",
    "\n",
    "x = [\"Short Recom.\", \"Long Recom.\"]\n",
    "x_axis = np.arange(len(x))\n",
    "y_random = [good_recommendation_short_comments_random, good_recommendation_long_comments_random]\n",
    "y_model = [good_recommendation_short_comments_model, good_recommendation_long_comments_model]\n",
    "\n",
    "plt.bar(x_axis - 0.15, y_model, 0.2, label='Quality of Recommendations of Single Comments (Model)')\n",
    "plt.bar(x_axis + 0.15, y_random, 0.2, label='Quality of Recommendations of Single Comments (Random)')\n",
    "\n",
    "\n",
    "plt.xticks(x_axis, x)\n",
    "plt.xlabel(\"Comment Length\")\n",
    "plt.ylabel('Percentage')\n",
    "\n",
    "plt.legend()\n",
    "plt.savefig('figures/quality_of_recommendations_per_comment_length.pdf', format='pdf', dpi=500, bbox_inches='tight')\n",
    "plt.show()"
   ],
   "id": "e2950b2554c45ec2",
   "outputs": [
    {
     "data": {
      "text/plain": [
       "<Figure size 1000x600 with 1 Axes>"
      ],
      "image/png": "[encoded data removed]"
     },
     "metadata": {},
     "output_type": "display_data"
    }
   ],
   "execution_count": 54
  },
  {
   "metadata": {},
   "cell_type": "markdown",
   "source": "# Demographics",
   "id": "dcaaf1ab395025d6"
  },
  {
   "metadata": {
    "ExecuteTime": {
     "end_time": "2024-12-02T12:09:38.637409Z",
     "start_time": "2024-12-02T12:09:38.633519Z"
    }
   },
   "cell_type": "code",
   "source": "participants = participants[~participants['participant_id'].isin(participant_ids_not_finished)]",
   "id": "bfa2a9567c347bcb",
   "outputs": [],
   "execution_count": 55
  },
  {
   "metadata": {},
   "cell_type": "markdown",
   "source": "## Age Distribution",
   "id": "131973a0c1cf6ff0"
  },
  {
   "metadata": {
    "ExecuteTime": {
     "end_time": "2024-12-02T12:09:38.659212Z",
     "start_time": "2024-12-02T12:09:38.638619Z"
    }
   },
   "cell_type": "code",
   "source": [
    "bins = [0, 10, 20, 30, 40, 50, 60, 70, 80, 90, np.inf]\n",
    "\n",
    "# Label the bins\n",
    "labels = ['0-9', '10-19', '20-29', '30-39', '40-49', '50-59', '60-69', '70-79', '80-89', '90+']\n",
    "\n",
    "# Apply pd.cut() to create age groups\n",
    "participants['age_group'] = pd.cut(participants['age'], bins=bins, labels=labels, right=False)\n",
    "\n",
    "print(participants[['age', 'age_group']].head())\n",
    "\n",
    "# Example usage: Group by age_group and count\n",
    "participants['age_group'].value_counts(sort=False)"
   ],
   "id": "1fabd9f8f8935b3d",
   "outputs": [
    {
     "name": "stdout",
     "output_type": "stream",
     "text": [
      "   age age_group\n",
      "0   31     30-39\n",
      "1   30     30-39\n",
      "2   53     50-59\n",
      "5   28     20-29\n",
      "6   32     30-39\n"
     ]
    },
    {
     "data": {
      "text/plain": [
       "age_group\n",
       "0-9      0\n",
       "10-19    0\n",
       "20-29    1\n",
       "30-39    7\n",
       "40-49    0\n",
       "50-59    1\n",
       "60-69    0\n",
       "70-79    0\n",
       "80-89    0\n",
       "90+      0\n",
       "Name: count, dtype: int64"
      ]
     },
     "execution_count": 56,
     "metadata": {},
     "output_type": "execute_result"
    }
   ],
   "execution_count": 56
  },
  {
   "metadata": {
    "ExecuteTime": {
     "end_time": "2024-12-02T12:09:38.669826Z",
     "start_time": "2024-12-02T12:09:38.660840Z"
    }
   },
   "cell_type": "code",
   "source": "participants.groupby(\"education\").count()",
   "id": "b2fe6ee6247a48ea",
   "outputs": [
    {
     "data": {
      "text/plain": [
       "           Unnamed: 0  participant_id  gender  age  age_group\n",
       "education                                                    \n",
       "master              4               4       3    4          4\n",
       "phd                 5               5       5    5          5"
      ],
      "text/html": [
       "<div>\n",
       "<style scoped>\n",
       "    .dataframe tbody tr th:only-of-type {\n",
       "        vertical-align: middle;\n",
       "    }\n",
       "\n",
       "    .dataframe tbody tr th {\n",
       "        vertical-align: top;\n",
       "    }\n",
       "\n",
       "    .dataframe thead th {\n",
       "        text-align: right;\n",
       "    }\n",
       "</style>\n",
       "<table border=\"1\" class=\"dataframe\">\n",
       "  <thead>\n",
       "    <tr style=\"text-align: right;\">\n",
       "      <th></th>\n",
       "      <th>Unnamed: 0</th>\n",
       "      <th>participant_id</th>\n",
       "      <th>gender</th>\n",
       "      <th>age</th>\n",
       "      <th>age_group</th>\n",
       "    </tr>\n",
       "    <tr>\n",
       "      <th>education</th>\n",
       "      <th></th>\n",
       "      <th></th>\n",
       "      <th></th>\n",
       "      <th></th>\n",
       "      <th></th>\n",
       "    </tr>\n",
       "  </thead>\n",
       "  <tbody>\n",
       "    <tr>\n",
       "      <th>master</th>\n",
       "      <td>4</td>\n",
       "      <td>4</td>\n",
       "      <td>3</td>\n",
       "      <td>4</td>\n",
       "      <td>4</td>\n",
       "    </tr>\n",
       "    <tr>\n",
       "      <th>phd</th>\n",
       "      <td>5</td>\n",
       "      <td>5</td>\n",
       "      <td>5</td>\n",
       "      <td>5</td>\n",
       "      <td>5</td>\n",
       "    </tr>\n",
       "  </tbody>\n",
       "</table>\n",
       "</div>"
      ]
     },
     "execution_count": 57,
     "metadata": {},
     "output_type": "execute_result"
    }
   ],
   "execution_count": 57
  },
  {
   "metadata": {
    "ExecuteTime": {
     "end_time": "2024-12-02T12:09:38.679404Z",
     "start_time": "2024-12-02T12:09:38.671173Z"
    }
   },
   "cell_type": "code",
   "source": "participants.groupby(\"gender\").count()",
   "id": "ca6a772dd1a33ab4",
   "outputs": [
    {
     "data": {
      "text/plain": [
       "        Unnamed: 0  participant_id  age  education  age_group\n",
       "gender                                                       \n",
       "female           2               2    2          2          2\n",
       "male             6               6    6          6          6"
      ],
      "text/html": [
       "<div>\n",
       "<style scoped>\n",
       "    .dataframe tbody tr th:only-of-type {\n",
       "        vertical-align: middle;\n",
       "    }\n",
       "\n",
       "    .dataframe tbody tr th {\n",
       "        vertical-align: top;\n",
       "    }\n",
       "\n",
       "    .dataframe thead th {\n",
       "        text-align: right;\n",
       "    }\n",
       "</style>\n",
       "<table border=\"1\" class=\"dataframe\">\n",
       "  <thead>\n",
       "    <tr style=\"text-align: right;\">\n",
       "      <th></th>\n",
       "      <th>Unnamed: 0</th>\n",
       "      <th>participant_id</th>\n",
       "      <th>age</th>\n",
       "      <th>education</th>\n",
       "      <th>age_group</th>\n",
       "    </tr>\n",
       "    <tr>\n",
       "      <th>gender</th>\n",
       "      <th></th>\n",
       "      <th></th>\n",
       "      <th></th>\n",
       "      <th></th>\n",
       "      <th></th>\n",
       "    </tr>\n",
       "  </thead>\n",
       "  <tbody>\n",
       "    <tr>\n",
       "      <th>female</th>\n",
       "      <td>2</td>\n",
       "      <td>2</td>\n",
       "      <td>2</td>\n",
       "      <td>2</td>\n",
       "      <td>2</td>\n",
       "    </tr>\n",
       "    <tr>\n",
       "      <th>male</th>\n",
       "      <td>6</td>\n",
       "      <td>6</td>\n",
       "      <td>6</td>\n",
       "      <td>6</td>\n",
       "      <td>6</td>\n",
       "    </tr>\n",
       "  </tbody>\n",
       "</table>\n",
       "</div>"
      ]
     },
     "execution_count": 58,
     "metadata": {},
     "output_type": "execute_result"
    }
   ],
   "execution_count": 58
  },
  {
   "metadata": {
    "ExecuteTime": {
     "end_time": "2024-12-02T12:09:38.682699Z",
     "start_time": "2024-12-02T12:09:38.680658Z"
    }
   },
   "cell_type": "code",
   "source": "",
   "id": "6580d600d6319bb",
   "outputs": [],
   "execution_count": 58
  },
  {
   "metadata": {
    "ExecuteTime": {
     "end_time": "2024-12-02T12:09:38.685803Z",
     "start_time": "2024-12-02T12:09:38.683786Z"
    }
   },
   "cell_type": "code",
   "source": "",
   "id": "82498d0df7c878d9",
   "outputs": [],
   "execution_count": 58
  }
 ],
 "metadata": {
  "kernelspec": {
   "display_name": "Python 3",
   "language": "python",
   "name": "python3"
  },
  "language_info": {
   "codemirror_mode": {
    "name": "ipython",
    "version": 2
   },
   "file_extension": ".py",
   "mimetype": "text/x-python",
   "name": "python",
   "nbconvert_exporter": "python",
   "pygments_lexer": "ipython2",
   "version": "2.7.6"
  }
 },
 "nbformat": 4,
 "nbformat_minor": 5
}
