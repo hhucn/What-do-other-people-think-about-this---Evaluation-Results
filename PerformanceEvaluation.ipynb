{
 "cells": [
  {
   "cell_type": "code",
   "id": "initial_id",
   "metadata": {
    "collapsed": true,
    "ExecuteTime": {
     "end_time": "2024-11-26T12:23:13.385664Z",
     "start_time": "2024-11-26T12:23:13.381481Z"
    }
   },
   "source": [
    "import json\n",
    "from statistics import mean"
   ],
   "outputs": [],
   "execution_count": 1
  },
  {
   "metadata": {
    "ExecuteTime": {
     "end_time": "2024-11-26T12:23:13.397016Z",
     "start_time": "2024-11-26T12:23:13.387052Z"
    }
   },
   "cell_type": "code",
   "source": [
    "stance_performance_data = None\n",
    "with open('data/Performance Evaluation/Performance Test Stance Model.postman_test_run.json', 'r') as f:\n",
    "    stance_performance_data = json.load(f)"
   ],
   "id": "7acc7a93c74f9c2a",
   "outputs": [],
   "execution_count": 2
  },
  {
   "metadata": {
    "ExecuteTime": {
     "end_time": "2024-11-26T12:23:13.401591Z",
     "start_time": "2024-11-26T12:23:13.398673Z"
    }
   },
   "cell_type": "code",
   "source": [
    "sentiment_performance_data = None\n",
    "with open('data/Performance Evaluation/Performance Test Sentiment Model.postman_test_run.json', 'r') as f:\n",
    "    sentiment_performance_data = json.load(f)"
   ],
   "id": "e523893e415fd8d6",
   "outputs": [],
   "execution_count": 3
  },
  {
   "metadata": {
    "ExecuteTime": {
     "end_time": "2024-11-26T12:23:13.417935Z",
     "start_time": "2024-11-26T12:23:13.414461Z"
    }
   },
   "cell_type": "code",
   "source": [
    "emotion_performance_data = None\n",
    "with open('data/Performance Evaluation/Performance Test Emotion Model.postman_test_run.json', 'r') as f:\n",
    "    emotion_performance_data = json.load(f)"
   ],
   "id": "7bcecbdcdf19b75b",
   "outputs": [],
   "execution_count": 4
  },
  {
   "metadata": {
    "ExecuteTime": {
     "end_time": "2024-11-26T12:23:13.425388Z",
     "start_time": "2024-11-26T12:23:13.422225Z"
    }
   },
   "cell_type": "code",
   "source": [
    "news_agencies_performance_data = None\n",
    "with open('data/Performance Evaluation/Performance Test News Agency Model.postman_test_run.json', 'r') as f:\n",
    "    news_agencies_performance_data = json.load(f)"
   ],
   "id": "65ac8176105f2664",
   "outputs": [],
   "execution_count": 5
  },
  {
   "metadata": {},
   "cell_type": "markdown",
   "source": "# Average Response Time per Model Method over all User Comments",
   "id": "7d8a6129374b7063"
  },
  {
   "metadata": {
    "ExecuteTime": {
     "end_time": "2024-11-26T12:23:13.473018Z",
     "start_time": "2024-11-26T12:23:13.469411Z"
    }
   },
   "cell_type": "code",
   "source": [
    "def extract_response_time(data):\n",
    "    response_times = []\n",
    "    for i in range(len(data[\"results\"])):\n",
    "        response_times.extend(data[\"results\"][i][\"times\"])\n",
    "    \n",
    "    return response_times"
   ],
   "id": "55253e21a35f6176",
   "outputs": [],
   "execution_count": 6
  },
  {
   "metadata": {
    "ExecuteTime": {
     "end_time": "2024-11-26T12:23:13.528565Z",
     "start_time": "2024-11-26T12:23:13.525788Z"
    }
   },
   "cell_type": "code",
   "source": [
    "def compute_mean_response_time_in_seconds(response_times):\n",
    "    return round(mean(response_times)/1000, 2)"
   ],
   "id": "a730d8449266c5d4",
   "outputs": [],
   "execution_count": 7
  },
  {
   "metadata": {
    "ExecuteTime": {
     "end_time": "2024-11-26T12:23:13.557875Z",
     "start_time": "2024-11-26T12:23:13.553724Z"
    }
   },
   "cell_type": "code",
   "source": [
    "average_response_time_per_ml_method = {\n",
    "    \"stance\": compute_mean_response_time_in_seconds(extract_response_time(stance_performance_data)),\n",
    "    \"sentiment\": compute_mean_response_time_in_seconds(extract_response_time(sentiment_performance_data)),\n",
    "    \"emotion\": compute_mean_response_time_in_seconds(extract_response_time(emotion_performance_data)),\n",
    "    \"news_agencies\": compute_mean_response_time_in_seconds(extract_response_time(news_agencies_performance_data)),\n",
    "}"
   ],
   "id": "cbeb227fe9882e65",
   "outputs": [],
   "execution_count": 8
  },
  {
   "metadata": {
    "ExecuteTime": {
     "end_time": "2024-11-26T12:23:13.575176Z",
     "start_time": "2024-11-26T12:23:13.567357Z"
    }
   },
   "cell_type": "code",
   "source": "average_response_time_per_ml_method",
   "id": "5ce7783d632e8a3d",
   "outputs": [
    {
     "data": {
      "text/plain": [
       "{'stance': 12.34, 'sentiment': 12.81, 'emotion': 14.77, 'news_agencies': 26.15}"
      ]
     },
     "execution_count": 9,
     "metadata": {},
     "output_type": "execute_result"
    }
   ],
   "execution_count": 9
  },
  {
   "metadata": {
    "ExecuteTime": {
     "end_time": "2024-11-26T12:23:13.600655Z",
     "start_time": "2024-11-26T12:23:13.595463Z"
    }
   },
   "cell_type": "code",
   "source": [
    "from IPython.display import HTML, display\n",
    "\n",
    "html = f\"\"\"\n",
    "<table>\n",
    "<tr>\n",
    "<th>Stance</th>\n",
    "<th>Sentiment</th>\n",
    "<th>Emotion</th>\n",
    "<th>News Agencies</th>\n",
    "</tr>\n",
    "<tr>\n",
    "<td>{average_response_time_per_ml_method[\"stance\"]}</td> \n",
    "<td>{average_response_time_per_ml_method[\"sentiment\"]}</td>\n",
    "<td>{average_response_time_per_ml_method[\"emotion\"]}</td>\n",
    "<td>{average_response_time_per_ml_method[\"news_agencies\"]}</td>\n",
    "</tr>\n",
    "</table>\n",
    "\"\"\"\n",
    "display(HTML(html))\n"
   ],
   "id": "65c8e18f5f102f5b",
   "outputs": [
    {
     "data": {
      "text/plain": [
       "<IPython.core.display.HTML object>"
      ],
      "text/html": [
       "\n",
       "<table>\n",
       "<tr>\n",
       "<th>Stance</th>\n",
       "<th>Sentiment</th>\n",
       "<th>Emotion</th>\n",
       "<th>News Agencies</th>\n",
       "</tr>\n",
       "<tr>\n",
       "<td>12.34</td> \n",
       "<td>12.81</td>\n",
       "<td>14.77</td>\n",
       "<td>26.15</td>\n",
       "</tr>\n",
       "</table>\n"
      ]
     },
     "metadata": {},
     "output_type": "display_data"
    }
   ],
   "execution_count": 10
  },
  {
   "metadata": {
    "ExecuteTime": {
     "end_time": "2024-11-26T12:23:13.632501Z",
     "start_time": "2024-11-26T12:23:13.628649Z"
    }
   },
   "cell_type": "code",
   "source": [
    "def extract_response_times_per_user_comment(data):\n",
    "    response_times = {}\n",
    "    \n",
    "    for i in range(len(data[\"results\"])):\n",
    "        response_times[i] = data[\"results\"][i][\"times\"]\n",
    "    \n",
    "    return response_times\n",
    "    "
   ],
   "id": "d0b7e240d9606c9e",
   "outputs": [],
   "execution_count": 11
  },
  {
   "metadata": {
    "ExecuteTime": {
     "end_time": "2024-11-26T12:23:13.641577Z",
     "start_time": "2024-11-26T12:23:13.637705Z"
    }
   },
   "cell_type": "code",
   "source": [
    "def compute_mean_response_time_in_seconds_per_user_comment(response_times:dict):\n",
    "    mean_response_time_per_user_comment = {}\n",
    "    for i in response_times.keys():\n",
    "        mean_response_time_per_user_comment[i] = round(mean(response_times[i])/1000, 2)\n",
    "    return mean_response_time_per_user_comment"
   ],
   "id": "cad535763b7759cc",
   "outputs": [],
   "execution_count": 12
  },
  {
   "metadata": {
    "ExecuteTime": {
     "end_time": "2024-11-26T12:23:13.678858Z",
     "start_time": "2024-11-26T12:23:13.675685Z"
    }
   },
   "cell_type": "code",
   "source": [
    "mean_response_time_per_ml_method_and_user_comment = {\n",
    "    \"stance\": compute_mean_response_time_in_seconds_per_user_comment(extract_response_times_per_user_comment(stance_performance_data)),\n",
    "    \"sentiment\": compute_mean_response_time_in_seconds_per_user_comment(extract_response_times_per_user_comment(sentiment_performance_data)),\n",
    "    \"emotion\": compute_mean_response_time_in_seconds_per_user_comment(extract_response_times_per_user_comment(emotion_performance_data)),\n",
    "    \"news_agencies\": compute_mean_response_time_in_seconds_per_user_comment(extract_response_times_per_user_comment(news_agencies_performance_data)),\n",
    "}\n"
   ],
   "id": "b15367445ebdfe0e",
   "outputs": [],
   "execution_count": 13
  },
  {
   "metadata": {
    "ExecuteTime": {
     "end_time": "2024-11-26T12:23:13.726995Z",
     "start_time": "2024-11-26T12:23:13.720790Z"
    }
   },
   "cell_type": "code",
   "source": [
    "from IPython.display import HTML, display\n",
    "\n",
    "table_body =\"\"\n",
    "\n",
    "for i  in mean_response_time_per_ml_method_and_user_comment[\"stance\"].keys():\n",
    "    table_body += (f\"<tr>\"\n",
    "                   f\"<td>{i + 1}</td>\"\n",
    "                   f\"<td>{mean_response_time_per_ml_method_and_user_comment['stance'][i]}</td>\"\n",
    "                   f\"<td>{mean_response_time_per_ml_method_and_user_comment['sentiment'][i]}</td>\"\n",
    "                   f\"<td>{mean_response_time_per_ml_method_and_user_comment['emotion'][i]}</td>\"\n",
    "                   f\"<td>{mean_response_time_per_ml_method_and_user_comment['news_agencies'][i]}</td>\"\n",
    "                   f\"</tr>\")\n",
    "    \n",
    "\n",
    "html = f\"\"\"\n",
    "<table>\n",
    "<tr>\n",
    "<th> User Comment ID </th>\n",
    "<th>Stance</th>\n",
    "<th>Sentiment</th>\n",
    "<th>Emotion</th>\n",
    "<th>News Agencies</th>\n",
    "</tr>\n",
    "{table_body}\n",
    "</table>\n",
    "\"\"\"\n",
    "display(HTML(html))"
   ],
   "id": "243835ef26ad751",
   "outputs": [
    {
     "data": {
      "text/plain": [
       "<IPython.core.display.HTML object>"
      ],
      "text/html": [
       "\n",
       "<table>\n",
       "<tr>\n",
       "<th> User Comment ID </th>\n",
       "<th>Stance</th>\n",
       "<th>Sentiment</th>\n",
       "<th>Emotion</th>\n",
       "<th>News Agencies</th>\n",
       "</tr>\n",
       "<tr><td>1</td><td>18.34</td><td>18.34</td><td>25.53</td><td>30.36</td></tr><tr><td>2</td><td>16.43</td><td>17.12</td><td>18.92</td><td>24.05</td></tr><tr><td>3</td><td>11.06</td><td>11.56</td><td>11.78</td><td>25.11</td></tr><tr><td>4</td><td>13.18</td><td>13.78</td><td>14.21</td><td>25.4</td></tr><tr><td>5</td><td>4.75</td><td>4.93</td><td>6.21</td><td>19.64</td></tr><tr><td>6</td><td>10.25</td><td>11.13</td><td>11.98</td><td>32.34</td></tr>\n",
       "</table>\n"
      ]
     },
     "metadata": {},
     "output_type": "display_data"
    }
   ],
   "execution_count": 14
  },
  {
   "metadata": {
    "ExecuteTime": {
     "end_time": "2024-11-26T12:23:13.752962Z",
     "start_time": "2024-11-26T12:23:13.750875Z"
    }
   },
   "cell_type": "code",
   "source": "",
   "id": "cc3bdd708cda8fba",
   "outputs": [],
   "execution_count": 14
  }
 ],
 "metadata": {
  "kernelspec": {
   "display_name": "Python 3",
   "language": "python",
   "name": "python3"
  },
  "language_info": {
   "codemirror_mode": {
    "name": "ipython",
    "version": 2
   },
   "file_extension": ".py",
   "mimetype": "text/x-python",
   "name": "python",
   "nbconvert_exporter": "python",
   "pygments_lexer": "ipython2",
   "version": "2.7.6"
  }
 },
 "nbformat": 4,
 "nbformat_minor": 5
}
